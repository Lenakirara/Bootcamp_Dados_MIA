{
  "nbformat": 4,
  "nbformat_minor": 0,
  "metadata": {
    "colab": {
      "provenance": [],
      "authorship_tag": "ABX9TyONPJFMmIBYFvzjNRtXNFWi",
      "include_colab_link": true
    },
    "kernelspec": {
      "name": "python3",
      "display_name": "Python 3"
    },
    "language_info": {
      "name": "python"
    }
  },
  "cells": [
    {
      "cell_type": "markdown",
      "metadata": {
        "id": "view-in-github",
        "colab_type": "text"
      },
      "source": [
        "<a href=\"https://colab.research.google.com/github/Lenakirara/Bootcamp_Dados_MIA/blob/main/New_York_City_Taxi_Fare_Prediction.ipynb\" target=\"_parent\"><img src=\"https://colab.research.google.com/assets/colab-badge.svg\" alt=\"Open In Colab\"/></a>"
      ]
    },
    {
      "cell_type": "markdown",
      "source": [
        "# New York City Taxi Fare Prediction\n",
        "\n",
        "O objetivo deste projeto prátco é realizar a predição do valor da tarifa para uma corrida de táxi na cidade de Nova York."
      ],
      "metadata": {
        "id": "qP4jFnIGxzw5"
      }
    },
    {
      "cell_type": "markdown",
      "source": [
        "\n",
        "## Base de dados utilizada\n",
        "\n",
        "- Kaggle: [New York City Taxi Fare Prediction](https://www.kaggle.com/competitions/new-york-city-taxi-fare-prediction/overview)\n",
        "\n",
        "## Descrição do conjunto de dados\n",
        "\n",
        "| Campo | Descrição |\n",
        "|-------|-----------|\n",
        "| key | chave única indicando cada exemplo |\n",
        "| fare_amount | valor, em doláres, indicando o valor pago na corrida de táxi |\n",
        "| pickup_datetime | timestamp indicando quando a corrida começou |\n",
        "| pickup_longitude | longitude na qual a corrida de táxi começou |\n",
        "| pickup_latitude | latitude na qual a corrida de táxi começou |\n",
        "| dropoff_longitude | longitude na qual a corrida de táxi acabou |\n",
        "| dropoff_latitude | latitude na qual a corrida de táxi acabou |\n",
        "| passenger_count\t| número de passageiros |"
      ],
      "metadata": {
        "id": "Ewk78a34qhcg"
      }
    },
    {
      "cell_type": "markdown",
      "source": [
        "## Importando Bibliotecas"
      ],
      "metadata": {
        "id": "A6qe4R_zsL5f"
      }
    },
    {
      "cell_type": "code",
      "execution_count": null,
      "metadata": {
        "id": "eq6CwcjApesf"
      },
      "outputs": [],
      "source": [
        "import pandas as pd\n",
        "import matplotlib.pyplot as plt\n",
        "from sklearn.model_selection import train_test_split\n",
        "import seaborn as sns\n",
        "import numpy as np"
      ]
    },
    {
      "cell_type": "code",
      "source": [
        "import warnings\n",
        "warnings.simplefilter(action='ignore')"
      ],
      "metadata": {
        "id": "5baMOiqPsh7d"
      },
      "execution_count": null,
      "outputs": []
    },
    {
      "cell_type": "markdown",
      "source": [
        "## Buscando o Dataset"
      ],
      "metadata": {
        "id": "yNrGfn2ewKGO"
      }
    },
    {
      "cell_type": "code",
      "source": [
        "from google.colab import drive\n",
        "drive.mount('/content/drive')"
      ],
      "metadata": {
        "colab": {
          "base_uri": "https://localhost:8080/"
        },
        "id": "fkcuBkEZsiwV",
        "outputId": "67bb29e4-ee71-4a24-c629-5bd1c4e6ddcf"
      },
      "execution_count": null,
      "outputs": [
        {
          "output_type": "stream",
          "name": "stdout",
          "text": [
            "Drive already mounted at /content/drive; to attempt to forcibly remount, call drive.mount(\"/content/drive\", force_remount=True).\n"
          ]
        }
      ]
    },
    {
      "cell_type": "code",
      "source": [
        "df = pd.read_csv('/content/drive/MyDrive/Colab Notebooks/MIA/aula5/dataset.csv')\n",
        "df.head()"
      ],
      "metadata": {
        "colab": {
          "base_uri": "https://localhost:8080/",
          "height": 337
        },
        "id": "Jb-w4F3VwOBz",
        "outputId": "99a3acdd-4425-4307-eef5-aa80a8ea56e7"
      },
      "execution_count": null,
      "outputs": [
        {
          "output_type": "execute_result",
          "data": {
            "text/plain": [
              "                             key  fare_amount          pickup_datetime  \\\n",
              "0    2009-06-15 17:26:21.0000001          4.5  2009-06-15 17:26:21 UTC   \n",
              "1    2010-01-05 16:52:16.0000002         16.9  2010-01-05 16:52:16 UTC   \n",
              "2   2011-08-18 00:35:00.00000049          5.7  2011-08-18 00:35:00 UTC   \n",
              "3    2012-04-21 04:30:42.0000001          7.7  2012-04-21 04:30:42 UTC   \n",
              "4  2010-03-09 07:51:00.000000135          5.3  2010-03-09 07:51:00 UTC   \n",
              "\n",
              "   pickup_longitude  pickup_latitude  dropoff_longitude  dropoff_latitude  \\\n",
              "0        -73.844311        40.721319         -73.841610         40.712278   \n",
              "1        -74.016048        40.711303         -73.979268         40.782004   \n",
              "2        -73.982738        40.761270         -73.991242         40.750562   \n",
              "3        -73.987130        40.733143         -73.991567         40.758092   \n",
              "4        -73.968095        40.768008         -73.956655         40.783762   \n",
              "\n",
              "   passenger_count  \n",
              "0                1  \n",
              "1                1  \n",
              "2                2  \n",
              "3                1  \n",
              "4                1  "
            ],
            "text/html": [
              "\n",
              "  <div id=\"df-0d5d68d7-3402-4f4a-b101-d591c2b3eb8c\">\n",
              "    <div class=\"colab-df-container\">\n",
              "      <div>\n",
              "<style scoped>\n",
              "    .dataframe tbody tr th:only-of-type {\n",
              "        vertical-align: middle;\n",
              "    }\n",
              "\n",
              "    .dataframe tbody tr th {\n",
              "        vertical-align: top;\n",
              "    }\n",
              "\n",
              "    .dataframe thead th {\n",
              "        text-align: right;\n",
              "    }\n",
              "</style>\n",
              "<table border=\"1\" class=\"dataframe\">\n",
              "  <thead>\n",
              "    <tr style=\"text-align: right;\">\n",
              "      <th></th>\n",
              "      <th>key</th>\n",
              "      <th>fare_amount</th>\n",
              "      <th>pickup_datetime</th>\n",
              "      <th>pickup_longitude</th>\n",
              "      <th>pickup_latitude</th>\n",
              "      <th>dropoff_longitude</th>\n",
              "      <th>dropoff_latitude</th>\n",
              "      <th>passenger_count</th>\n",
              "    </tr>\n",
              "  </thead>\n",
              "  <tbody>\n",
              "    <tr>\n",
              "      <th>0</th>\n",
              "      <td>2009-06-15 17:26:21.0000001</td>\n",
              "      <td>4.5</td>\n",
              "      <td>2009-06-15 17:26:21 UTC</td>\n",
              "      <td>-73.844311</td>\n",
              "      <td>40.721319</td>\n",
              "      <td>-73.841610</td>\n",
              "      <td>40.712278</td>\n",
              "      <td>1</td>\n",
              "    </tr>\n",
              "    <tr>\n",
              "      <th>1</th>\n",
              "      <td>2010-01-05 16:52:16.0000002</td>\n",
              "      <td>16.9</td>\n",
              "      <td>2010-01-05 16:52:16 UTC</td>\n",
              "      <td>-74.016048</td>\n",
              "      <td>40.711303</td>\n",
              "      <td>-73.979268</td>\n",
              "      <td>40.782004</td>\n",
              "      <td>1</td>\n",
              "    </tr>\n",
              "    <tr>\n",
              "      <th>2</th>\n",
              "      <td>2011-08-18 00:35:00.00000049</td>\n",
              "      <td>5.7</td>\n",
              "      <td>2011-08-18 00:35:00 UTC</td>\n",
              "      <td>-73.982738</td>\n",
              "      <td>40.761270</td>\n",
              "      <td>-73.991242</td>\n",
              "      <td>40.750562</td>\n",
              "      <td>2</td>\n",
              "    </tr>\n",
              "    <tr>\n",
              "      <th>3</th>\n",
              "      <td>2012-04-21 04:30:42.0000001</td>\n",
              "      <td>7.7</td>\n",
              "      <td>2012-04-21 04:30:42 UTC</td>\n",
              "      <td>-73.987130</td>\n",
              "      <td>40.733143</td>\n",
              "      <td>-73.991567</td>\n",
              "      <td>40.758092</td>\n",
              "      <td>1</td>\n",
              "    </tr>\n",
              "    <tr>\n",
              "      <th>4</th>\n",
              "      <td>2010-03-09 07:51:00.000000135</td>\n",
              "      <td>5.3</td>\n",
              "      <td>2010-03-09 07:51:00 UTC</td>\n",
              "      <td>-73.968095</td>\n",
              "      <td>40.768008</td>\n",
              "      <td>-73.956655</td>\n",
              "      <td>40.783762</td>\n",
              "      <td>1</td>\n",
              "    </tr>\n",
              "  </tbody>\n",
              "</table>\n",
              "</div>\n",
              "      <button class=\"colab-df-convert\" onclick=\"convertToInteractive('df-0d5d68d7-3402-4f4a-b101-d591c2b3eb8c')\"\n",
              "              title=\"Convert this dataframe to an interactive table.\"\n",
              "              style=\"display:none;\">\n",
              "        \n",
              "  <svg xmlns=\"http://www.w3.org/2000/svg\" height=\"24px\"viewBox=\"0 0 24 24\"\n",
              "       width=\"24px\">\n",
              "    <path d=\"M0 0h24v24H0V0z\" fill=\"none\"/>\n",
              "    <path d=\"M18.56 5.44l.94 2.06.94-2.06 2.06-.94-2.06-.94-.94-2.06-.94 2.06-2.06.94zm-11 1L8.5 8.5l.94-2.06 2.06-.94-2.06-.94L8.5 2.5l-.94 2.06-2.06.94zm10 10l.94 2.06.94-2.06 2.06-.94-2.06-.94-.94-2.06-.94 2.06-2.06.94z\"/><path d=\"M17.41 7.96l-1.37-1.37c-.4-.4-.92-.59-1.43-.59-.52 0-1.04.2-1.43.59L10.3 9.45l-7.72 7.72c-.78.78-.78 2.05 0 2.83L4 21.41c.39.39.9.59 1.41.59.51 0 1.02-.2 1.41-.59l7.78-7.78 2.81-2.81c.8-.78.8-2.07 0-2.86zM5.41 20L4 18.59l7.72-7.72 1.47 1.35L5.41 20z\"/>\n",
              "  </svg>\n",
              "      </button>\n",
              "      \n",
              "  <style>\n",
              "    .colab-df-container {\n",
              "      display:flex;\n",
              "      flex-wrap:wrap;\n",
              "      gap: 12px;\n",
              "    }\n",
              "\n",
              "    .colab-df-convert {\n",
              "      background-color: #E8F0FE;\n",
              "      border: none;\n",
              "      border-radius: 50%;\n",
              "      cursor: pointer;\n",
              "      display: none;\n",
              "      fill: #1967D2;\n",
              "      height: 32px;\n",
              "      padding: 0 0 0 0;\n",
              "      width: 32px;\n",
              "    }\n",
              "\n",
              "    .colab-df-convert:hover {\n",
              "      background-color: #E2EBFA;\n",
              "      box-shadow: 0px 1px 2px rgba(60, 64, 67, 0.3), 0px 1px 3px 1px rgba(60, 64, 67, 0.15);\n",
              "      fill: #174EA6;\n",
              "    }\n",
              "\n",
              "    [theme=dark] .colab-df-convert {\n",
              "      background-color: #3B4455;\n",
              "      fill: #D2E3FC;\n",
              "    }\n",
              "\n",
              "    [theme=dark] .colab-df-convert:hover {\n",
              "      background-color: #434B5C;\n",
              "      box-shadow: 0px 1px 3px 1px rgba(0, 0, 0, 0.15);\n",
              "      filter: drop-shadow(0px 1px 2px rgba(0, 0, 0, 0.3));\n",
              "      fill: #FFFFFF;\n",
              "    }\n",
              "  </style>\n",
              "\n",
              "      <script>\n",
              "        const buttonEl =\n",
              "          document.querySelector('#df-0d5d68d7-3402-4f4a-b101-d591c2b3eb8c button.colab-df-convert');\n",
              "        buttonEl.style.display =\n",
              "          google.colab.kernel.accessAllowed ? 'block' : 'none';\n",
              "\n",
              "        async function convertToInteractive(key) {\n",
              "          const element = document.querySelector('#df-0d5d68d7-3402-4f4a-b101-d591c2b3eb8c');\n",
              "          const dataTable =\n",
              "            await google.colab.kernel.invokeFunction('convertToInteractive',\n",
              "                                                     [key], {});\n",
              "          if (!dataTable) return;\n",
              "\n",
              "          const docLinkHtml = 'Like what you see? Visit the ' +\n",
              "            '<a target=\"_blank\" href=https://colab.research.google.com/notebooks/data_table.ipynb>data table notebook</a>'\n",
              "            + ' to learn more about interactive tables.';\n",
              "          element.innerHTML = '';\n",
              "          dataTable['output_type'] = 'display_data';\n",
              "          await google.colab.output.renderOutput(dataTable, element);\n",
              "          const docLink = document.createElement('div');\n",
              "          docLink.innerHTML = docLinkHtml;\n",
              "          element.appendChild(docLink);\n",
              "        }\n",
              "      </script>\n",
              "    </div>\n",
              "  </div>\n",
              "  "
            ]
          },
          "metadata": {},
          "execution_count": 4
        }
      ]
    },
    {
      "cell_type": "code",
      "source": [
        "df.shape"
      ],
      "metadata": {
        "colab": {
          "base_uri": "https://localhost:8080/"
        },
        "id": "BUT_aF4RwnTd",
        "outputId": "7955f413-7a52-4065-a83e-0561e63b86e9"
      },
      "execution_count": null,
      "outputs": [
        {
          "output_type": "execute_result",
          "data": {
            "text/plain": [
              "(1000000, 8)"
            ]
          },
          "metadata": {},
          "execution_count": 5
        }
      ]
    },
    {
      "cell_type": "code",
      "source": [
        "df.info()"
      ],
      "metadata": {
        "colab": {
          "base_uri": "https://localhost:8080/"
        },
        "id": "fxdH_YaZyI_L",
        "outputId": "44b3a1b4-beeb-4d05-832c-d6390fee1ba0"
      },
      "execution_count": null,
      "outputs": [
        {
          "output_type": "stream",
          "name": "stdout",
          "text": [
            "<class 'pandas.core.frame.DataFrame'>\n",
            "RangeIndex: 1000000 entries, 0 to 999999\n",
            "Data columns (total 8 columns):\n",
            " #   Column             Non-Null Count    Dtype  \n",
            "---  ------             --------------    -----  \n",
            " 0   key                1000000 non-null  object \n",
            " 1   fare_amount        1000000 non-null  float64\n",
            " 2   pickup_datetime    1000000 non-null  object \n",
            " 3   pickup_longitude   1000000 non-null  float64\n",
            " 4   pickup_latitude    1000000 non-null  float64\n",
            " 5   dropoff_longitude  999990 non-null   float64\n",
            " 6   dropoff_latitude   999990 non-null   float64\n",
            " 7   passenger_count    1000000 non-null  int64  \n",
            "dtypes: float64(5), int64(1), object(2)\n",
            "memory usage: 61.0+ MB\n"
          ]
        }
      ]
    },
    {
      "cell_type": "markdown",
      "source": [
        "## Análise exploratória e Feature engineering\n"
      ],
      "metadata": {
        "id": "a18cCL9myZwT"
      }
    },
    {
      "cell_type": "markdown",
      "source": [
        "### Valores Faltantes"
      ],
      "metadata": {
        "id": "hvlXwRZpyc1Y"
      }
    },
    {
      "cell_type": "code",
      "source": [
        "print(f'Tamanho do conjunto de dados (antes da remoção de valores faltantes): {len(df)}')\n",
        "df.dropna(inplace=True)\n",
        "print(f'Tamanho do conjunto de dados (depois da remoção de valores faltantes): {len(df)}')"
      ],
      "metadata": {
        "colab": {
          "base_uri": "https://localhost:8080/"
        },
        "id": "xCzV46aeyM4d",
        "outputId": "3c341279-6e16-46c3-9edc-983288f55ef5"
      },
      "execution_count": null,
      "outputs": [
        {
          "output_type": "stream",
          "name": "stdout",
          "text": [
            "Tamanho do conjunto de dados (antes da remoção de valores faltantes): 1000000\n",
            "Tamanho do conjunto de dados (depois da remoção de valores faltantes): 999990\n"
          ]
        }
      ]
    },
    {
      "cell_type": "markdown",
      "source": [
        "Nota-se que valores faltantes totalizam apenas 10."
      ],
      "metadata": {
        "id": "tCrLz7WCOqe7"
      }
    },
    {
      "cell_type": "markdown",
      "source": [
        "### Distribuição das features"
      ],
      "metadata": {
        "id": "RcVS5aaUzrBJ"
      }
    },
    {
      "cell_type": "code",
      "source": [
        "# distribuição da variáveis\n",
        "df.describe(include='all').T"
      ],
      "metadata": {
        "colab": {
          "base_uri": "https://localhost:8080/",
          "height": 344
        },
        "id": "hF8KL9SMzYAI",
        "outputId": "15a328d2-7225-4962-d582-35bd25238efb"
      },
      "execution_count": null,
      "outputs": [
        {
          "output_type": "execute_result",
          "data": {
            "text/plain": [
              "                      count  unique                          top freq  \\\n",
              "key                  999990  999990  2009-06-15 17:26:21.0000001    1   \n",
              "fare_amount        999990.0     NaN                          NaN  NaN   \n",
              "pickup_datetime      999990  861747      2010-02-13 19:28:00 UTC    9   \n",
              "pickup_longitude   999990.0     NaN                          NaN  NaN   \n",
              "pickup_latitude    999990.0     NaN                          NaN  NaN   \n",
              "dropoff_longitude  999990.0     NaN                          NaN  NaN   \n",
              "dropoff_latitude   999990.0     NaN                          NaN  NaN   \n",
              "passenger_count    999990.0     NaN                          NaN  NaN   \n",
              "\n",
              "                        mean        std          min        25%        50%  \\\n",
              "key                      NaN        NaN          NaN        NaN        NaN   \n",
              "fare_amount        11.347953    9.82179        -44.9        6.0        8.5   \n",
              "pickup_datetime          NaN        NaN          NaN        NaN        NaN   \n",
              "pickup_longitude  -72.526699  12.057778 -3377.680935  -73.99206 -73.981792   \n",
              "pickup_latitude     39.92904   7.626087 -3116.285383  40.734965  40.752695   \n",
              "dropoff_longitude  -72.52786  11.324494 -3383.296608 -73.991385 -73.980135   \n",
              "dropoff_latitude   39.919954   8.201418 -3114.338567  40.734046  40.753166   \n",
              "passenger_count     1.684941   1.323907          0.0        1.0        1.0   \n",
              "\n",
              "                         75%          max  \n",
              "key                      NaN          NaN  \n",
              "fare_amount             12.5        500.0  \n",
              "pickup_datetime          NaN          NaN  \n",
              "pickup_longitude  -73.967094  2522.271325  \n",
              "pickup_latitude    40.767154   2621.62843  \n",
              "dropoff_longitude -73.963654    45.581619  \n",
              "dropoff_latitude   40.768129  1651.553433  \n",
              "passenger_count          2.0        208.0  "
            ],
            "text/html": [
              "\n",
              "  <div id=\"df-a159610d-7b84-4ba5-a70f-e973bd23387f\">\n",
              "    <div class=\"colab-df-container\">\n",
              "      <div>\n",
              "<style scoped>\n",
              "    .dataframe tbody tr th:only-of-type {\n",
              "        vertical-align: middle;\n",
              "    }\n",
              "\n",
              "    .dataframe tbody tr th {\n",
              "        vertical-align: top;\n",
              "    }\n",
              "\n",
              "    .dataframe thead th {\n",
              "        text-align: right;\n",
              "    }\n",
              "</style>\n",
              "<table border=\"1\" class=\"dataframe\">\n",
              "  <thead>\n",
              "    <tr style=\"text-align: right;\">\n",
              "      <th></th>\n",
              "      <th>count</th>\n",
              "      <th>unique</th>\n",
              "      <th>top</th>\n",
              "      <th>freq</th>\n",
              "      <th>mean</th>\n",
              "      <th>std</th>\n",
              "      <th>min</th>\n",
              "      <th>25%</th>\n",
              "      <th>50%</th>\n",
              "      <th>75%</th>\n",
              "      <th>max</th>\n",
              "    </tr>\n",
              "  </thead>\n",
              "  <tbody>\n",
              "    <tr>\n",
              "      <th>key</th>\n",
              "      <td>999990</td>\n",
              "      <td>999990</td>\n",
              "      <td>2009-06-15 17:26:21.0000001</td>\n",
              "      <td>1</td>\n",
              "      <td>NaN</td>\n",
              "      <td>NaN</td>\n",
              "      <td>NaN</td>\n",
              "      <td>NaN</td>\n",
              "      <td>NaN</td>\n",
              "      <td>NaN</td>\n",
              "      <td>NaN</td>\n",
              "    </tr>\n",
              "    <tr>\n",
              "      <th>fare_amount</th>\n",
              "      <td>999990.0</td>\n",
              "      <td>NaN</td>\n",
              "      <td>NaN</td>\n",
              "      <td>NaN</td>\n",
              "      <td>11.347953</td>\n",
              "      <td>9.82179</td>\n",
              "      <td>-44.9</td>\n",
              "      <td>6.0</td>\n",
              "      <td>8.5</td>\n",
              "      <td>12.5</td>\n",
              "      <td>500.0</td>\n",
              "    </tr>\n",
              "    <tr>\n",
              "      <th>pickup_datetime</th>\n",
              "      <td>999990</td>\n",
              "      <td>861747</td>\n",
              "      <td>2010-02-13 19:28:00 UTC</td>\n",
              "      <td>9</td>\n",
              "      <td>NaN</td>\n",
              "      <td>NaN</td>\n",
              "      <td>NaN</td>\n",
              "      <td>NaN</td>\n",
              "      <td>NaN</td>\n",
              "      <td>NaN</td>\n",
              "      <td>NaN</td>\n",
              "    </tr>\n",
              "    <tr>\n",
              "      <th>pickup_longitude</th>\n",
              "      <td>999990.0</td>\n",
              "      <td>NaN</td>\n",
              "      <td>NaN</td>\n",
              "      <td>NaN</td>\n",
              "      <td>-72.526699</td>\n",
              "      <td>12.057778</td>\n",
              "      <td>-3377.680935</td>\n",
              "      <td>-73.99206</td>\n",
              "      <td>-73.981792</td>\n",
              "      <td>-73.967094</td>\n",
              "      <td>2522.271325</td>\n",
              "    </tr>\n",
              "    <tr>\n",
              "      <th>pickup_latitude</th>\n",
              "      <td>999990.0</td>\n",
              "      <td>NaN</td>\n",
              "      <td>NaN</td>\n",
              "      <td>NaN</td>\n",
              "      <td>39.92904</td>\n",
              "      <td>7.626087</td>\n",
              "      <td>-3116.285383</td>\n",
              "      <td>40.734965</td>\n",
              "      <td>40.752695</td>\n",
              "      <td>40.767154</td>\n",
              "      <td>2621.62843</td>\n",
              "    </tr>\n",
              "    <tr>\n",
              "      <th>dropoff_longitude</th>\n",
              "      <td>999990.0</td>\n",
              "      <td>NaN</td>\n",
              "      <td>NaN</td>\n",
              "      <td>NaN</td>\n",
              "      <td>-72.52786</td>\n",
              "      <td>11.324494</td>\n",
              "      <td>-3383.296608</td>\n",
              "      <td>-73.991385</td>\n",
              "      <td>-73.980135</td>\n",
              "      <td>-73.963654</td>\n",
              "      <td>45.581619</td>\n",
              "    </tr>\n",
              "    <tr>\n",
              "      <th>dropoff_latitude</th>\n",
              "      <td>999990.0</td>\n",
              "      <td>NaN</td>\n",
              "      <td>NaN</td>\n",
              "      <td>NaN</td>\n",
              "      <td>39.919954</td>\n",
              "      <td>8.201418</td>\n",
              "      <td>-3114.338567</td>\n",
              "      <td>40.734046</td>\n",
              "      <td>40.753166</td>\n",
              "      <td>40.768129</td>\n",
              "      <td>1651.553433</td>\n",
              "    </tr>\n",
              "    <tr>\n",
              "      <th>passenger_count</th>\n",
              "      <td>999990.0</td>\n",
              "      <td>NaN</td>\n",
              "      <td>NaN</td>\n",
              "      <td>NaN</td>\n",
              "      <td>1.684941</td>\n",
              "      <td>1.323907</td>\n",
              "      <td>0.0</td>\n",
              "      <td>1.0</td>\n",
              "      <td>1.0</td>\n",
              "      <td>2.0</td>\n",
              "      <td>208.0</td>\n",
              "    </tr>\n",
              "  </tbody>\n",
              "</table>\n",
              "</div>\n",
              "      <button class=\"colab-df-convert\" onclick=\"convertToInteractive('df-a159610d-7b84-4ba5-a70f-e973bd23387f')\"\n",
              "              title=\"Convert this dataframe to an interactive table.\"\n",
              "              style=\"display:none;\">\n",
              "        \n",
              "  <svg xmlns=\"http://www.w3.org/2000/svg\" height=\"24px\"viewBox=\"0 0 24 24\"\n",
              "       width=\"24px\">\n",
              "    <path d=\"M0 0h24v24H0V0z\" fill=\"none\"/>\n",
              "    <path d=\"M18.56 5.44l.94 2.06.94-2.06 2.06-.94-2.06-.94-.94-2.06-.94 2.06-2.06.94zm-11 1L8.5 8.5l.94-2.06 2.06-.94-2.06-.94L8.5 2.5l-.94 2.06-2.06.94zm10 10l.94 2.06.94-2.06 2.06-.94-2.06-.94-.94-2.06-.94 2.06-2.06.94z\"/><path d=\"M17.41 7.96l-1.37-1.37c-.4-.4-.92-.59-1.43-.59-.52 0-1.04.2-1.43.59L10.3 9.45l-7.72 7.72c-.78.78-.78 2.05 0 2.83L4 21.41c.39.39.9.59 1.41.59.51 0 1.02-.2 1.41-.59l7.78-7.78 2.81-2.81c.8-.78.8-2.07 0-2.86zM5.41 20L4 18.59l7.72-7.72 1.47 1.35L5.41 20z\"/>\n",
              "  </svg>\n",
              "      </button>\n",
              "      \n",
              "  <style>\n",
              "    .colab-df-container {\n",
              "      display:flex;\n",
              "      flex-wrap:wrap;\n",
              "      gap: 12px;\n",
              "    }\n",
              "\n",
              "    .colab-df-convert {\n",
              "      background-color: #E8F0FE;\n",
              "      border: none;\n",
              "      border-radius: 50%;\n",
              "      cursor: pointer;\n",
              "      display: none;\n",
              "      fill: #1967D2;\n",
              "      height: 32px;\n",
              "      padding: 0 0 0 0;\n",
              "      width: 32px;\n",
              "    }\n",
              "\n",
              "    .colab-df-convert:hover {\n",
              "      background-color: #E2EBFA;\n",
              "      box-shadow: 0px 1px 2px rgba(60, 64, 67, 0.3), 0px 1px 3px 1px rgba(60, 64, 67, 0.15);\n",
              "      fill: #174EA6;\n",
              "    }\n",
              "\n",
              "    [theme=dark] .colab-df-convert {\n",
              "      background-color: #3B4455;\n",
              "      fill: #D2E3FC;\n",
              "    }\n",
              "\n",
              "    [theme=dark] .colab-df-convert:hover {\n",
              "      background-color: #434B5C;\n",
              "      box-shadow: 0px 1px 3px 1px rgba(0, 0, 0, 0.15);\n",
              "      filter: drop-shadow(0px 1px 2px rgba(0, 0, 0, 0.3));\n",
              "      fill: #FFFFFF;\n",
              "    }\n",
              "  </style>\n",
              "\n",
              "      <script>\n",
              "        const buttonEl =\n",
              "          document.querySelector('#df-a159610d-7b84-4ba5-a70f-e973bd23387f button.colab-df-convert');\n",
              "        buttonEl.style.display =\n",
              "          google.colab.kernel.accessAllowed ? 'block' : 'none';\n",
              "\n",
              "        async function convertToInteractive(key) {\n",
              "          const element = document.querySelector('#df-a159610d-7b84-4ba5-a70f-e973bd23387f');\n",
              "          const dataTable =\n",
              "            await google.colab.kernel.invokeFunction('convertToInteractive',\n",
              "                                                     [key], {});\n",
              "          if (!dataTable) return;\n",
              "\n",
              "          const docLinkHtml = 'Like what you see? Visit the ' +\n",
              "            '<a target=\"_blank\" href=https://colab.research.google.com/notebooks/data_table.ipynb>data table notebook</a>'\n",
              "            + ' to learn more about interactive tables.';\n",
              "          element.innerHTML = '';\n",
              "          dataTable['output_type'] = 'display_data';\n",
              "          await google.colab.output.renderOutput(dataTable, element);\n",
              "          const docLink = document.createElement('div');\n",
              "          docLink.innerHTML = docLinkHtml;\n",
              "          element.appendChild(docLink);\n",
              "        }\n",
              "      </script>\n",
              "    </div>\n",
              "  </div>\n",
              "  "
            ]
          },
          "metadata": {},
          "execution_count": 8
        }
      ]
    },
    {
      "cell_type": "markdown",
      "source": [
        "**Algumas análises**\n",
        "- Na coluna 'passenger_count' notamos um discrepância no valor -> Número máximo de passageiros em uma corrida com total de 208?\n",
        "- O target 'fare_amount' está com alguns valores negativos."
      ],
      "metadata": {
        "id": "cg1PgmzDz7pu"
      }
    },
    {
      "cell_type": "markdown",
      "source": [
        "## Análise das features (e do target)\n",
        "\n"
      ],
      "metadata": {
        "id": "Fpz-vBXM0aKM"
      }
    },
    {
      "cell_type": "markdown",
      "source": [
        "### fare_amount\n",
        "\n",
        "Começamos pelo target, e assim podemos visualizar sua distribuição."
      ],
      "metadata": {
        "id": "ubI33WnY393K"
      }
    },
    {
      "cell_type": "code",
      "source": [
        "sns.boxplot(df.fare_amount).set_title('Distribuição do valor pago pela corrida de táxi (target)', fontsize=14);"
      ],
      "metadata": {
        "colab": {
          "base_uri": "https://localhost:8080/",
          "height": 298
        },
        "id": "mkL_qvsFzwi7",
        "outputId": "91e19ea2-ef8b-445d-f545-45e9683707c7"
      },
      "execution_count": null,
      "outputs": [
        {
          "output_type": "display_data",
          "data": {
            "text/plain": [
              "<Figure size 432x288 with 1 Axes>"
            ],
            "image/png": "[encoded data removed]"
          },
          "metadata": {
            "needs_background": "light"
          }
        }
      ]
    },
    {
      "cell_type": "markdown",
      "source": [
        "- Temos corridas que custam menos de 1 dolar e corridas com valores negativos."
      ],
      "metadata": {
        "id": "N6XSYdxSRg6_"
      }
    },
    {
      "cell_type": "code",
      "source": [
        "len(df.loc[(df.fare_amount < 1)])"
      ],
      "metadata": {
        "colab": {
          "base_uri": "https://localhost:8080/"
        },
        "id": "9aUxRfX3002g",
        "outputId": "d1113c02-e477-43c1-d505-49520eef80d8"
      },
      "execution_count": null,
      "outputs": [
        {
          "output_type": "execute_result",
          "data": {
            "text/plain": [
              "75"
            ]
          },
          "metadata": {},
          "execution_count": 10
        }
      ]
    },
    {
      "cell_type": "markdown",
      "source": [
        "- Total de 75 exemplos com valores a baixo de 1 dolar"
      ],
      "metadata": {
        "id": "3z-Iuvmi1NuW"
      }
    },
    {
      "cell_type": "code",
      "source": [
        "len(df.loc[(df.fare_amount > 100)])"
      ],
      "metadata": {
        "colab": {
          "base_uri": "https://localhost:8080/"
        },
        "id": "5DvaBTc91mOv",
        "outputId": "558b806b-74b8-4ca3-96b6-9be3461c7996"
      },
      "execution_count": null,
      "outputs": [
        {
          "output_type": "execute_result",
          "data": {
            "text/plain": [
              "396"
            ]
          },
          "metadata": {},
          "execution_count": 11
        }
      ]
    },
    {
      "cell_type": "markdown",
      "source": [
        "- 396 exemplos possuem valores da corrida acima de 100 dolares.\n"
      ],
      "metadata": {
        "id": "aMvDl_tr12wo"
      }
    },
    {
      "cell_type": "markdown",
      "source": [
        "### Removendo esses casos discrepantes"
      ],
      "metadata": {
        "id": "n47UeLuI2fKr"
      }
    },
    {
      "cell_type": "code",
      "source": [
        "df = df.loc[(df.fare_amount >= 1) & (df.fare_amount <= 100)]"
      ],
      "metadata": {
        "id": "0-gOzAfX11hz"
      },
      "execution_count": null,
      "outputs": []
    },
    {
      "cell_type": "code",
      "source": [
        "sns.boxplot(df.fare_amount).set_title(\"Distribuição do valor pago pela corrida de táxi (target) após remoção de valores extremos\", fontsize=14);"
      ],
      "metadata": {
        "colab": {
          "base_uri": "https://localhost:8080/",
          "height": 298
        },
        "id": "pt_M0sDG20Hn",
        "outputId": "5ddc7c22-1036-4316-9226-aa4f162bc492"
      },
      "execution_count": null,
      "outputs": [
        {
          "output_type": "display_data",
          "data": {
            "text/plain": [
              "<Figure size 432x288 with 1 Axes>"
            ],
            "image/png": "[encoded data removed]"
          },
          "metadata": {
            "needs_background": "light"
          }
        }
      ]
    },
    {
      "cell_type": "code",
      "source": [
        "sns.distplot(df.fare_amount).set_title(\"Distribuição do valor pago pela corrida de táxi (target) após remoção de valores extremos\", fontsize=14);"
      ],
      "metadata": {
        "colab": {
          "base_uri": "https://localhost:8080/",
          "height": 298
        },
        "id": "XDD2DiWU22c8",
        "outputId": "347e3be9-edae-4a52-ba21-303628cfd26e"
      },
      "execution_count": null,
      "outputs": [
        {
          "output_type": "display_data",
          "data": {
            "text/plain": [
              "<Figure size 432x288 with 1 Axes>"
            ],
            "image/png": "[encoded data removed]"
          },
          "metadata": {
            "needs_background": "light"
          }
        }
      ]
    },
    {
      "cell_type": "markdown",
      "source": [
        "- Notamos uma concentração maior de corrida de até 20 dólares.\n",
        "- 75% do conjunto de dados temos corridas com valor até 12,5 dólares.\n",
        "- Entre 40 e 60 dólares temos alguns picos.\n"
      ],
      "metadata": {
        "id": "a1AquvBY3Wqj"
      }
    },
    {
      "cell_type": "markdown",
      "source": [
        "### pickup_datetime\n"
      ],
      "metadata": {
        "id": "yKVYHuNE4LX9"
      }
    },
    {
      "cell_type": "code",
      "source": [
        "# convertendo os valores de data - object para  datetime64\n",
        "df['pickup_datetime'] = pd.to_datetime(df['pickup_datetime'],format='%Y-%m-%d %H:%M:%S UTC')\n",
        "df.info()"
      ],
      "metadata": {
        "colab": {
          "base_uri": "https://localhost:8080/"
        },
        "id": "VcqKyFl63WUY",
        "outputId": "f71e50f8-5a80-4dc5-8fa4-ec6bb5967594"
      },
      "execution_count": null,
      "outputs": [
        {
          "output_type": "stream",
          "name": "stdout",
          "text": [
            "<class 'pandas.core.frame.DataFrame'>\n",
            "Int64Index: 999519 entries, 0 to 999999\n",
            "Data columns (total 8 columns):\n",
            " #   Column             Non-Null Count   Dtype         \n",
            "---  ------             --------------   -----         \n",
            " 0   key                999519 non-null  object        \n",
            " 1   fare_amount        999519 non-null  float64       \n",
            " 2   pickup_datetime    999519 non-null  datetime64[ns]\n",
            " 3   pickup_longitude   999519 non-null  float64       \n",
            " 4   pickup_latitude    999519 non-null  float64       \n",
            " 5   dropoff_longitude  999519 non-null  float64       \n",
            " 6   dropoff_latitude   999519 non-null  float64       \n",
            " 7   passenger_count    999519 non-null  int64         \n",
            "dtypes: datetime64[ns](1), float64(5), int64(1), object(1)\n",
            "memory usage: 68.6+ MB\n"
          ]
        }
      ]
    },
    {
      "cell_type": "markdown",
      "source": [
        "Mesmo com essa conversão, ainda não conseguimos usar essa informação. Podemos separá-la em várias features diferentes (horário, dia da semana, dia, mês, ano):"
      ],
      "metadata": {
        "id": "GJ-OkxGo4xDH"
      }
    },
    {
      "cell_type": "code",
      "source": [
        "# horário\n",
        "df['pickup_hour']=df['pickup_datetime'].apply(lambda x:x.hour)\n",
        "# dia da semana (0 é segunda e 6 é domingo)\n",
        "df['pickup_day_of_week']=df['pickup_datetime'].apply(lambda x:x.weekday())\n",
        "# dia\n",
        "df['pickup_day']=df['pickup_datetime'].apply(lambda x:x.day)\n",
        "# mês\n",
        "df['pickup_month']=df['pickup_datetime'].apply(lambda x:x.month)\n",
        "# ano\n",
        "df['pickup_year']=df['pickup_datetime'].apply(lambda x:x.year)"
      ],
      "metadata": {
        "id": "cAHiO2cB3SF3"
      },
      "execution_count": null,
      "outputs": []
    },
    {
      "cell_type": "code",
      "source": [
        "df.head()"
      ],
      "metadata": {
        "colab": {
          "base_uri": "https://localhost:8080/",
          "height": 357
        },
        "id": "JHTIfFiQ6Sri",
        "outputId": "74b5afe4-a117-44c2-df1a-b078fca3ceea"
      },
      "execution_count": null,
      "outputs": [
        {
          "output_type": "execute_result",
          "data": {
            "text/plain": [
              "                             key  fare_amount     pickup_datetime  \\\n",
              "0    2009-06-15 17:26:21.0000001          4.5 2009-06-15 17:26:21   \n",
              "1    2010-01-05 16:52:16.0000002         16.9 2010-01-05 16:52:16   \n",
              "2   2011-08-18 00:35:00.00000049          5.7 2011-08-18 00:35:00   \n",
              "3    2012-04-21 04:30:42.0000001          7.7 2012-04-21 04:30:42   \n",
              "4  2010-03-09 07:51:00.000000135          5.3 2010-03-09 07:51:00   \n",
              "\n",
              "   pickup_longitude  pickup_latitude  dropoff_longitude  dropoff_latitude  \\\n",
              "0        -73.844311        40.721319         -73.841610         40.712278   \n",
              "1        -74.016048        40.711303         -73.979268         40.782004   \n",
              "2        -73.982738        40.761270         -73.991242         40.750562   \n",
              "3        -73.987130        40.733143         -73.991567         40.758092   \n",
              "4        -73.968095        40.768008         -73.956655         40.783762   \n",
              "\n",
              "   passenger_count  pickup_hour  pickup_day_of_week  pickup_day  pickup_month  \\\n",
              "0                1           17                   0          15             6   \n",
              "1                1           16                   1           5             1   \n",
              "2                2            0                   3          18             8   \n",
              "3                1            4                   5          21             4   \n",
              "4                1            7                   1           9             3   \n",
              "\n",
              "   pickup_year  \n",
              "0         2009  \n",
              "1         2010  \n",
              "2         2011  \n",
              "3         2012  \n",
              "4         2010  "
            ],
            "text/html": [
              "\n",
              "  <div id=\"df-73e776f9-fa50-4b3c-be1c-332429a5b650\">\n",
              "    <div class=\"colab-df-container\">\n",
              "      <div>\n",
              "<style scoped>\n",
              "    .dataframe tbody tr th:only-of-type {\n",
              "        vertical-align: middle;\n",
              "    }\n",
              "\n",
              "    .dataframe tbody tr th {\n",
              "        vertical-align: top;\n",
              "    }\n",
              "\n",
              "    .dataframe thead th {\n",
              "        text-align: right;\n",
              "    }\n",
              "</style>\n",
              "<table border=\"1\" class=\"dataframe\">\n",
              "  <thead>\n",
              "    <tr style=\"text-align: right;\">\n",
              "      <th></th>\n",
              "      <th>key</th>\n",
              "      <th>fare_amount</th>\n",
              "      <th>pickup_datetime</th>\n",
              "      <th>pickup_longitude</th>\n",
              "      <th>pickup_latitude</th>\n",
              "      <th>dropoff_longitude</th>\n",
              "      <th>dropoff_latitude</th>\n",
              "      <th>passenger_count</th>\n",
              "      <th>pickup_hour</th>\n",
              "      <th>pickup_day_of_week</th>\n",
              "      <th>pickup_day</th>\n",
              "      <th>pickup_month</th>\n",
              "      <th>pickup_year</th>\n",
              "    </tr>\n",
              "  </thead>\n",
              "  <tbody>\n",
              "    <tr>\n",
              "      <th>0</th>\n",
              "      <td>2009-06-15 17:26:21.0000001</td>\n",
              "      <td>4.5</td>\n",
              "      <td>2009-06-15 17:26:21</td>\n",
              "      <td>-73.844311</td>\n",
              "      <td>40.721319</td>\n",
              "      <td>-73.841610</td>\n",
              "      <td>40.712278</td>\n",
              "      <td>1</td>\n",
              "      <td>17</td>\n",
              "      <td>0</td>\n",
              "      <td>15</td>\n",
              "      <td>6</td>\n",
              "      <td>2009</td>\n",
              "    </tr>\n",
              "    <tr>\n",
              "      <th>1</th>\n",
              "      <td>2010-01-05 16:52:16.0000002</td>\n",
              "      <td>16.9</td>\n",
              "      <td>2010-01-05 16:52:16</td>\n",
              "      <td>-74.016048</td>\n",
              "      <td>40.711303</td>\n",
              "      <td>-73.979268</td>\n",
              "      <td>40.782004</td>\n",
              "      <td>1</td>\n",
              "      <td>16</td>\n",
              "      <td>1</td>\n",
              "      <td>5</td>\n",
              "      <td>1</td>\n",
              "      <td>2010</td>\n",
              "    </tr>\n",
              "    <tr>\n",
              "      <th>2</th>\n",
              "      <td>2011-08-18 00:35:00.00000049</td>\n",
              "      <td>5.7</td>\n",
              "      <td>2011-08-18 00:35:00</td>\n",
              "      <td>-73.982738</td>\n",
              "      <td>40.761270</td>\n",
              "      <td>-73.991242</td>\n",
              "      <td>40.750562</td>\n",
              "      <td>2</td>\n",
              "      <td>0</td>\n",
              "      <td>3</td>\n",
              "      <td>18</td>\n",
              "      <td>8</td>\n",
              "      <td>2011</td>\n",
              "    </tr>\n",
              "    <tr>\n",
              "      <th>3</th>\n",
              "      <td>2012-04-21 04:30:42.0000001</td>\n",
              "      <td>7.7</td>\n",
              "      <td>2012-04-21 04:30:42</td>\n",
              "      <td>-73.987130</td>\n",
              "      <td>40.733143</td>\n",
              "      <td>-73.991567</td>\n",
              "      <td>40.758092</td>\n",
              "      <td>1</td>\n",
              "      <td>4</td>\n",
              "      <td>5</td>\n",
              "      <td>21</td>\n",
              "      <td>4</td>\n",
              "      <td>2012</td>\n",
              "    </tr>\n",
              "    <tr>\n",
              "      <th>4</th>\n",
              "      <td>2010-03-09 07:51:00.000000135</td>\n",
              "      <td>5.3</td>\n",
              "      <td>2010-03-09 07:51:00</td>\n",
              "      <td>-73.968095</td>\n",
              "      <td>40.768008</td>\n",
              "      <td>-73.956655</td>\n",
              "      <td>40.783762</td>\n",
              "      <td>1</td>\n",
              "      <td>7</td>\n",
              "      <td>1</td>\n",
              "      <td>9</td>\n",
              "      <td>3</td>\n",
              "      <td>2010</td>\n",
              "    </tr>\n",
              "  </tbody>\n",
              "</table>\n",
              "</div>\n",
              "      <button class=\"colab-df-convert\" onclick=\"convertToInteractive('df-73e776f9-fa50-4b3c-be1c-332429a5b650')\"\n",
              "              title=\"Convert this dataframe to an interactive table.\"\n",
              "              style=\"display:none;\">\n",
              "        \n",
              "  <svg xmlns=\"http://www.w3.org/2000/svg\" height=\"24px\"viewBox=\"0 0 24 24\"\n",
              "       width=\"24px\">\n",
              "    <path d=\"M0 0h24v24H0V0z\" fill=\"none\"/>\n",
              "    <path d=\"M18.56 5.44l.94 2.06.94-2.06 2.06-.94-2.06-.94-.94-2.06-.94 2.06-2.06.94zm-11 1L8.5 8.5l.94-2.06 2.06-.94-2.06-.94L8.5 2.5l-.94 2.06-2.06.94zm10 10l.94 2.06.94-2.06 2.06-.94-2.06-.94-.94-2.06-.94 2.06-2.06.94z\"/><path d=\"M17.41 7.96l-1.37-1.37c-.4-.4-.92-.59-1.43-.59-.52 0-1.04.2-1.43.59L10.3 9.45l-7.72 7.72c-.78.78-.78 2.05 0 2.83L4 21.41c.39.39.9.59 1.41.59.51 0 1.02-.2 1.41-.59l7.78-7.78 2.81-2.81c.8-.78.8-2.07 0-2.86zM5.41 20L4 18.59l7.72-7.72 1.47 1.35L5.41 20z\"/>\n",
              "  </svg>\n",
              "      </button>\n",
              "      \n",
              "  <style>\n",
              "    .colab-df-container {\n",
              "      display:flex;\n",
              "      flex-wrap:wrap;\n",
              "      gap: 12px;\n",
              "    }\n",
              "\n",
              "    .colab-df-convert {\n",
              "      background-color: #E8F0FE;\n",
              "      border: none;\n",
              "      border-radius: 50%;\n",
              "      cursor: pointer;\n",
              "      display: none;\n",
              "      fill: #1967D2;\n",
              "      height: 32px;\n",
              "      padding: 0 0 0 0;\n",
              "      width: 32px;\n",
              "    }\n",
              "\n",
              "    .colab-df-convert:hover {\n",
              "      background-color: #E2EBFA;\n",
              "      box-shadow: 0px 1px 2px rgba(60, 64, 67, 0.3), 0px 1px 3px 1px rgba(60, 64, 67, 0.15);\n",
              "      fill: #174EA6;\n",
              "    }\n",
              "\n",
              "    [theme=dark] .colab-df-convert {\n",
              "      background-color: #3B4455;\n",
              "      fill: #D2E3FC;\n",
              "    }\n",
              "\n",
              "    [theme=dark] .colab-df-convert:hover {\n",
              "      background-color: #434B5C;\n",
              "      box-shadow: 0px 1px 3px 1px rgba(0, 0, 0, 0.15);\n",
              "      filter: drop-shadow(0px 1px 2px rgba(0, 0, 0, 0.3));\n",
              "      fill: #FFFFFF;\n",
              "    }\n",
              "  </style>\n",
              "\n",
              "      <script>\n",
              "        const buttonEl =\n",
              "          document.querySelector('#df-73e776f9-fa50-4b3c-be1c-332429a5b650 button.colab-df-convert');\n",
              "        buttonEl.style.display =\n",
              "          google.colab.kernel.accessAllowed ? 'block' : 'none';\n",
              "\n",
              "        async function convertToInteractive(key) {\n",
              "          const element = document.querySelector('#df-73e776f9-fa50-4b3c-be1c-332429a5b650');\n",
              "          const dataTable =\n",
              "            await google.colab.kernel.invokeFunction('convertToInteractive',\n",
              "                                                     [key], {});\n",
              "          if (!dataTable) return;\n",
              "\n",
              "          const docLinkHtml = 'Like what you see? Visit the ' +\n",
              "            '<a target=\"_blank\" href=https://colab.research.google.com/notebooks/data_table.ipynb>data table notebook</a>'\n",
              "            + ' to learn more about interactive tables.';\n",
              "          element.innerHTML = '';\n",
              "          dataTable['output_type'] = 'display_data';\n",
              "          await google.colab.output.renderOutput(dataTable, element);\n",
              "          const docLink = document.createElement('div');\n",
              "          docLink.innerHTML = docLinkHtml;\n",
              "          element.appendChild(docLink);\n",
              "        }\n",
              "      </script>\n",
              "    </div>\n",
              "  </div>\n",
              "  "
            ]
          },
          "metadata": {},
          "execution_count": 17
        }
      ]
    },
    {
      "cell_type": "code",
      "source": [
        "fig_size = (18,8)\n",
        "font_size = 16\n",
        "title_font_size = 20"
      ],
      "metadata": {
        "id": "KevgXXfgUyEm"
      },
      "execution_count": null,
      "outputs": []
    },
    {
      "cell_type": "markdown",
      "source": [
        "### Horário"
      ],
      "metadata": {
        "id": "Hb22BHg362Nv"
      }
    },
    {
      "cell_type": "code",
      "source": [
        "# utilizando countplot -> contagem\n",
        "sns.countplot(df['pickup_hour']).set_title(\"Contagem de corridas com base no horário de início da mesma\", fontsize=14);"
      ],
      "metadata": {
        "colab": {
          "base_uri": "https://localhost:8080/",
          "height": 298
        },
        "id": "gt5QFaX86bU6",
        "outputId": "75f43397-a4ec-42da-c228-b1364c9eae6b"
      },
      "execution_count": null,
      "outputs": [
        {
          "output_type": "display_data",
          "data": {
            "text/plain": [
              "<Figure size 432x288 with 1 Axes>"
            ],
            "image/png": "[encoded data removed]"
          },
          "metadata": {
            "needs_background": "light"
          }
        }
      ]
    },
    {
      "cell_type": "code",
      "source": [
        "def sns_catplot_df(x_var, y_var, title):\n",
        "  fig = plt.figure(figsize=fig_size)\n",
        "  sns.catplot(x=x_var,\n",
        "              y=y_var,\n",
        "              kind=\"bar\",\n",
        "              data=df)\n",
        "  plt.xlabel(x_var, fontsize = font_size)\n",
        "  plt.ylabel(y_var, fontsize = font_size)\n",
        "  plt.title(title, fontsize = title_font_size);"
      ],
      "metadata": {
        "id": "RGmRAKPXUnxp"
      },
      "execution_count": null,
      "outputs": []
    },
    {
      "cell_type": "code",
      "source": [
        "sns_catplot_df('pickup_hour', 'fare_amount', 'Valor médio pago pela corrida de acordo com o horário de início da mesma');"
      ],
      "metadata": {
        "colab": {
          "base_uri": "https://localhost:8080/",
          "height": 414
        },
        "id": "SJZmWeC4Vv7I",
        "outputId": "a29114dd-d283-4bbc-bbd9-86cfff29eee8"
      },
      "execution_count": null,
      "outputs": [
        {
          "output_type": "display_data",
          "data": {
            "text/plain": [
              "<Figure size 1296x576 with 0 Axes>"
            ]
          },
          "metadata": {}
        },
        {
          "output_type": "display_data",
          "data": {
            "text/plain": [
              "<Figure size 360x360 with 1 Axes>"
            ],
            "image/png": "[encoded data removed]"
          },
          "metadata": {
            "needs_background": "light"
          }
        }
      ]
    },
    {
      "cell_type": "markdown",
      "source": [
        "- Temos uma redução da quantidade de corrida no periodo da madrugada.\n",
        "- Nos demais horários a quantidade de corrida são maiores.\n"
      ],
      "metadata": {
        "id": "Bf2B0J8N7lI4"
      }
    },
    {
      "cell_type": "markdown",
      "source": [
        "### Dia da semana"
      ],
      "metadata": {
        "id": "_RjlhCJ7759i"
      }
    },
    {
      "cell_type": "code",
      "source": [
        "# Vamos fazer a conversão dos dias da semana para facilitar a leitura\n",
        "def convert_day_of_week(day_of_week):\n",
        "    day_dict={0:'Segunda',1:'Terça',2:'Quarta',3:'Quinta',4:'Sexta',5:'Sábado',6:'Domingo'}\n",
        "    return day_dict[day_of_week]\n"
      ],
      "metadata": {
        "id": "jr-JyITK7Gcv"
      },
      "execution_count": null,
      "outputs": []
    },
    {
      "cell_type": "code",
      "source": [
        "df['pickup_day_of_week_name']=df['pickup_day_of_week'].apply(lambda x:convert_day_of_week(x))"
      ],
      "metadata": {
        "id": "fmt4oZGA7_Iy"
      },
      "execution_count": null,
      "outputs": []
    },
    {
      "cell_type": "code",
      "source": [
        "week_day_name = ['Segunda','Terça','Quarta','Quinta','Sexta','Sábado','Domingo']"
      ],
      "metadata": {
        "id": "Ksyf9fSe8Ae9"
      },
      "execution_count": null,
      "outputs": []
    },
    {
      "cell_type": "code",
      "source": [
        "sns.countplot(df['pickup_day_of_week_name'],\n",
        "              order=week_day_name).set_title(\"Contagem de corridas com base no dia da semana da mesma\", fontsize=14);"
      ],
      "metadata": {
        "colab": {
          "base_uri": "https://localhost:8080/",
          "height": 297
        },
        "id": "-WT5VHGY8Btc",
        "outputId": "8d881ece-cd68-4bf1-d222-bd6ef25e9b38"
      },
      "execution_count": null,
      "outputs": [
        {
          "output_type": "display_data",
          "data": {
            "text/plain": [
              "<Figure size 432x288 with 1 Axes>"
            ],
            "image/png": "[encoded data removed]"
          },
          "metadata": {
            "needs_background": "light"
          }
        }
      ]
    },
    {
      "cell_type": "code",
      "source": [
        "sns.catplot(x=\"pickup_day_of_week_name\",\n",
        "            y=\"fare_amount\",\n",
        "            data=df,\n",
        "            order=week_day_name,kind=\"bar\").set(title=\"Valor médio pago pela corrida de acordo com base no dia da semana da mesma\");"
      ],
      "metadata": {
        "colab": {
          "base_uri": "https://localhost:8080/",
          "height": 385
        },
        "id": "9Psf_KKI8GSv",
        "outputId": "37c19824-6e00-48d3-e365-dee15bb5ac4a"
      },
      "execution_count": null,
      "outputs": [
        {
          "output_type": "display_data",
          "data": {
            "text/plain": [
              "<Figure size 360x360 with 1 Axes>"
            ],
            "image/png": "[encoded data removed]"
          },
          "metadata": {
            "needs_background": "light"
          }
        }
      ]
    },
    {
      "cell_type": "markdown",
      "source": [
        "- Nas sextas-feiras temos um pico no número de corridas.\n",
        "- No domingo os valores pagos em corridas são um pouco maiores.\n"
      ],
      "metadata": {
        "id": "PIVq_GSv8UaF"
      }
    },
    {
      "cell_type": "markdown",
      "source": [
        "### Dia"
      ],
      "metadata": {
        "id": "iHWV8va1813H"
      }
    },
    {
      "cell_type": "code",
      "source": [
        "sns.countplot(df['pickup_day']).set_title(\"Contagem de corridas com base no dia em que ela ocorreu\");\n",
        "plt.xticks(rotation=90);"
      ],
      "metadata": {
        "colab": {
          "base_uri": "https://localhost:8080/",
          "height": 299
        },
        "id": "TuuRaVNX8Rir",
        "outputId": "d5e840b0-7425-4a85-fe44-8eb68046dd77"
      },
      "execution_count": null,
      "outputs": [
        {
          "output_type": "display_data",
          "data": {
            "text/plain": [
              "<Figure size 432x288 with 1 Axes>"
            ],
            "image/png": "[encoded data removed]"
          },
          "metadata": {
            "needs_background": "light"
          }
        }
      ]
    },
    {
      "cell_type": "code",
      "source": [
        "sns_catplot_df('pickup_day', 'fare_amount', 'Valor médio pago pela corrida de acordo com o dia em que ela ocorreu')\n",
        "plt.xticks(rotation=90);"
      ],
      "metadata": {
        "colab": {
          "base_uri": "https://localhost:8080/",
          "height": 416
        },
        "id": "7RGQuKF8X8l2",
        "outputId": "bfde4273-6595-4866-9838-2436fadd3720"
      },
      "execution_count": null,
      "outputs": [
        {
          "output_type": "display_data",
          "data": {
            "text/plain": [
              "<Figure size 1296x576 with 0 Axes>"
            ]
          },
          "metadata": {}
        },
        {
          "output_type": "display_data",
          "data": {
            "text/plain": [
              "<Figure size 360x360 with 1 Axes>"
            ],
            "image/png": "[encoded data removed]"
          },
          "metadata": {
            "needs_background": "light"
          }
        }
      ]
    },
    {
      "cell_type": "markdown",
      "source": [
        "- Temos menos corridas nos dias 31. Lembrando que nem todos os meses vão até 31 dias.\n",
        "- A média dos valores pagos por dia da semana, ainda não conseguimos notar uma clara diferença.\n"
      ],
      "metadata": {
        "id": "meOPsGGJ8-Qe"
      }
    },
    {
      "cell_type": "markdown",
      "source": [
        "### Mês"
      ],
      "metadata": {
        "id": "J__ohZE-9hC-"
      }
    },
    {
      "cell_type": "code",
      "source": [
        "sns.countplot(df['pickup_month']).set_title(\"Contagem de corridas com base no mês em que ela ocorreu\");"
      ],
      "metadata": {
        "colab": {
          "base_uri": "https://localhost:8080/",
          "height": 296
        },
        "id": "vOKn2Exx88ta",
        "outputId": "0262fb05-7367-4b6f-e30b-5b7f5dd29db3"
      },
      "execution_count": null,
      "outputs": [
        {
          "output_type": "display_data",
          "data": {
            "text/plain": [
              "<Figure size 432x288 with 1 Axes>"
            ],
            "image/png": "[encoded data removed]"
          },
          "metadata": {
            "needs_background": "light"
          }
        }
      ]
    },
    {
      "cell_type": "code",
      "source": [
        "sns_catplot_df('pickup_month', 'fare_amount', 'Valor médio pago pela corrida de acordo com o mês em que ela ocorreu');"
      ],
      "metadata": {
        "colab": {
          "base_uri": "https://localhost:8080/",
          "height": 414
        },
        "id": "D2NPOM1RXXPy",
        "outputId": "0f54abb6-0f81-44a8-e43f-22e16af2564f"
      },
      "execution_count": null,
      "outputs": [
        {
          "output_type": "display_data",
          "data": {
            "text/plain": [
              "<Figure size 1296x576 with 0 Axes>"
            ]
          },
          "metadata": {}
        },
        {
          "output_type": "display_data",
          "data": {
            "text/plain": [
              "<Figure size 360x360 with 1 Axes>"
            ],
            "image/png": "[encoded data removed]"
          },
          "metadata": {
            "needs_background": "light"
          }
        }
      ]
    },
    {
      "cell_type": "markdown",
      "source": [
        "Com relação ao mês, aparentemente mais corridas de táxi são feitas no primeiro semestre do que no segundo. Já em relação à média do valor pago, os meses do começo do ano e do meio do ano parecem ter valores menores do que os demais meses."
      ],
      "metadata": {
        "id": "Xrz5HwD6gLdj"
      }
    },
    {
      "cell_type": "markdown",
      "source": [
        "- Verificar qual período faz parte deste dataset"
      ],
      "metadata": {
        "id": "7_Ow4Cnlf4_x"
      }
    },
    {
      "cell_type": "code",
      "source": [
        "period_year_2015 = df.query('pickup_year == 2015')['pickup_month']\n",
        "period_year_2015.head()"
      ],
      "metadata": {
        "colab": {
          "base_uri": "https://localhost:8080/"
        },
        "id": "1IVgIXHvnR4H",
        "outputId": "987bbdfd-645a-485c-f0e7-544ca25f48a6"
      },
      "execution_count": null,
      "outputs": [
        {
          "output_type": "execute_result",
          "data": {
            "text/plain": [
              "31    6\n",
              "35    1\n",
              "36    3\n",
              "68    4\n",
              "69    5\n",
              "Name: pickup_month, dtype: int64"
            ]
          },
          "metadata": {},
          "execution_count": 32
        }
      ]
    },
    {
      "cell_type": "code",
      "source": [
        "period_year_2015.hist(bins=8, color='salmon')\n",
        "plt.title('Verificando o período do ano de 2015')\n",
        "plt.xlabel('Mês');"
      ],
      "metadata": {
        "colab": {
          "base_uri": "https://localhost:8080/",
          "height": 295
        },
        "id": "mO8F4W3No2SN",
        "outputId": "a8272977-f7d1-4969-c338-055dd587a4bd"
      },
      "execution_count": null,
      "outputs": [
        {
          "output_type": "display_data",
          "data": {
            "text/plain": [
              "<Figure size 432x288 with 1 Axes>"
            ],
            "image/png": "[encoded data removed]"
          },
          "metadata": {
            "needs_background": "light"
          }
        }
      ]
    },
    {
      "cell_type": "markdown",
      "source": [
        "- O período do ano de 2015 foram coletados dados até o mês de junho."
      ],
      "metadata": {
        "id": "T1JT38ZOqb4Z"
      }
    },
    {
      "cell_type": "markdown",
      "source": [
        "### Ano"
      ],
      "metadata": {
        "id": "48aIBndf9oaB"
      }
    },
    {
      "cell_type": "code",
      "source": [
        "sns.countplot(df['pickup_year']).set_title(\"Contagem de corridas com base no ano em que ela ocorreu\");"
      ],
      "metadata": {
        "colab": {
          "base_uri": "https://localhost:8080/",
          "height": 296
        },
        "id": "6doHoEuw9lgY",
        "outputId": "0ff9e3fd-f5d1-4459-faa8-bbf578beec7b"
      },
      "execution_count": null,
      "outputs": [
        {
          "output_type": "display_data",
          "data": {
            "text/plain": [
              "<Figure size 432x288 with 1 Axes>"
            ],
            "image/png": "[encoded data removed]"
          },
          "metadata": {
            "needs_background": "light"
          }
        }
      ]
    },
    {
      "cell_type": "code",
      "source": [
        "sns_catplot_df('pickup_year', 'fare_amount', 'Valor médio pago pela corrida de acordo com o ano em que ela ocorreu');"
      ],
      "metadata": {
        "colab": {
          "base_uri": "https://localhost:8080/",
          "height": 414
        },
        "id": "ZobX-6ndXood",
        "outputId": "f8857e1f-5c99-4860-f6f7-7cc054f1e3b1"
      },
      "execution_count": null,
      "outputs": [
        {
          "output_type": "display_data",
          "data": {
            "text/plain": [
              "<Figure size 1296x576 with 0 Axes>"
            ]
          },
          "metadata": {}
        },
        {
          "output_type": "display_data",
          "data": {
            "text/plain": [
              "<Figure size 360x360 with 1 Axes>"
            ],
            "image/png": "[encoded data removed]"
          },
          "metadata": {
            "needs_background": "light"
          }
        }
      ]
    },
    {
      "cell_type": "markdown",
      "source": [
        "- Em 2015 temos uma quantidade menor de corridas. Hipótese: os dados podem tem sido coletados a partir da metade deste ano de 2015.\n",
        "- Com relação ao valor pago, podemos notar que há uma tendência de crescimento na média do valor pago pela corrida conforme os anos vão passando.\n"
      ],
      "metadata": {
        "id": "Pvbxxir898yF"
      }
    },
    {
      "cell_type": "markdown",
      "source": [
        "### Latitude e Longitude"
      ],
      "metadata": {
        "id": "0on_0MLw-A7g"
      }
    },
    {
      "cell_type": "code",
      "source": [
        "df[['pickup_latitude', 'pickup_longitude', 'dropoff_latitude', 'dropoff_longitude']].describe()"
      ],
      "metadata": {
        "colab": {
          "base_uri": "https://localhost:8080/",
          "height": 300
        },
        "id": "3AxiUpIf93UB",
        "outputId": "43462faa-9efb-4fb3-a0df-c8971cb86e44"
      },
      "execution_count": null,
      "outputs": [
        {
          "output_type": "execute_result",
          "data": {
            "text/plain": [
              "       pickup_latitude  pickup_longitude  dropoff_latitude  dropoff_longitude\n",
              "count    999519.000000     999519.000000     999519.000000      999519.000000\n",
              "mean         39.930365        -72.529162         39.921741         -72.531198\n",
              "std           7.623472         12.051418          8.198080          11.314573\n",
              "min       -3116.285383      -3377.680935      -3114.338567       -3383.296608\n",
              "25%          40.734977        -73.992061         40.734055         -73.991382\n",
              "50%          40.752697        -73.981796         40.753166         -73.980136\n",
              "75%          40.767151        -73.967110         40.768122         -73.963666\n",
              "max        2621.628430       2522.271325       1651.553433          45.581619"
            ],
            "text/html": [
              "\n",
              "  <div id=\"df-fd15c7f2-c269-4353-a37e-61fb3edc2724\">\n",
              "    <div class=\"colab-df-container\">\n",
              "      <div>\n",
              "<style scoped>\n",
              "    .dataframe tbody tr th:only-of-type {\n",
              "        vertical-align: middle;\n",
              "    }\n",
              "\n",
              "    .dataframe tbody tr th {\n",
              "        vertical-align: top;\n",
              "    }\n",
              "\n",
              "    .dataframe thead th {\n",
              "        text-align: right;\n",
              "    }\n",
              "</style>\n",
              "<table border=\"1\" class=\"dataframe\">\n",
              "  <thead>\n",
              "    <tr style=\"text-align: right;\">\n",
              "      <th></th>\n",
              "      <th>pickup_latitude</th>\n",
              "      <th>pickup_longitude</th>\n",
              "      <th>dropoff_latitude</th>\n",
              "      <th>dropoff_longitude</th>\n",
              "    </tr>\n",
              "  </thead>\n",
              "  <tbody>\n",
              "    <tr>\n",
              "      <th>count</th>\n",
              "      <td>999519.000000</td>\n",
              "      <td>999519.000000</td>\n",
              "      <td>999519.000000</td>\n",
              "      <td>999519.000000</td>\n",
              "    </tr>\n",
              "    <tr>\n",
              "      <th>mean</th>\n",
              "      <td>39.930365</td>\n",
              "      <td>-72.529162</td>\n",
              "      <td>39.921741</td>\n",
              "      <td>-72.531198</td>\n",
              "    </tr>\n",
              "    <tr>\n",
              "      <th>std</th>\n",
              "      <td>7.623472</td>\n",
              "      <td>12.051418</td>\n",
              "      <td>8.198080</td>\n",
              "      <td>11.314573</td>\n",
              "    </tr>\n",
              "    <tr>\n",
              "      <th>min</th>\n",
              "      <td>-3116.285383</td>\n",
              "      <td>-3377.680935</td>\n",
              "      <td>-3114.338567</td>\n",
              "      <td>-3383.296608</td>\n",
              "    </tr>\n",
              "    <tr>\n",
              "      <th>25%</th>\n",
              "      <td>40.734977</td>\n",
              "      <td>-73.992061</td>\n",
              "      <td>40.734055</td>\n",
              "      <td>-73.991382</td>\n",
              "    </tr>\n",
              "    <tr>\n",
              "      <th>50%</th>\n",
              "      <td>40.752697</td>\n",
              "      <td>-73.981796</td>\n",
              "      <td>40.753166</td>\n",
              "      <td>-73.980136</td>\n",
              "    </tr>\n",
              "    <tr>\n",
              "      <th>75%</th>\n",
              "      <td>40.767151</td>\n",
              "      <td>-73.967110</td>\n",
              "      <td>40.768122</td>\n",
              "      <td>-73.963666</td>\n",
              "    </tr>\n",
              "    <tr>\n",
              "      <th>max</th>\n",
              "      <td>2621.628430</td>\n",
              "      <td>2522.271325</td>\n",
              "      <td>1651.553433</td>\n",
              "      <td>45.581619</td>\n",
              "    </tr>\n",
              "  </tbody>\n",
              "</table>\n",
              "</div>\n",
              "      <button class=\"colab-df-convert\" onclick=\"convertToInteractive('df-fd15c7f2-c269-4353-a37e-61fb3edc2724')\"\n",
              "              title=\"Convert this dataframe to an interactive table.\"\n",
              "              style=\"display:none;\">\n",
              "        \n",
              "  <svg xmlns=\"http://www.w3.org/2000/svg\" height=\"24px\"viewBox=\"0 0 24 24\"\n",
              "       width=\"24px\">\n",
              "    <path d=\"M0 0h24v24H0V0z\" fill=\"none\"/>\n",
              "    <path d=\"M18.56 5.44l.94 2.06.94-2.06 2.06-.94-2.06-.94-.94-2.06-.94 2.06-2.06.94zm-11 1L8.5 8.5l.94-2.06 2.06-.94-2.06-.94L8.5 2.5l-.94 2.06-2.06.94zm10 10l.94 2.06.94-2.06 2.06-.94-2.06-.94-.94-2.06-.94 2.06-2.06.94z\"/><path d=\"M17.41 7.96l-1.37-1.37c-.4-.4-.92-.59-1.43-.59-.52 0-1.04.2-1.43.59L10.3 9.45l-7.72 7.72c-.78.78-.78 2.05 0 2.83L4 21.41c.39.39.9.59 1.41.59.51 0 1.02-.2 1.41-.59l7.78-7.78 2.81-2.81c.8-.78.8-2.07 0-2.86zM5.41 20L4 18.59l7.72-7.72 1.47 1.35L5.41 20z\"/>\n",
              "  </svg>\n",
              "      </button>\n",
              "      \n",
              "  <style>\n",
              "    .colab-df-container {\n",
              "      display:flex;\n",
              "      flex-wrap:wrap;\n",
              "      gap: 12px;\n",
              "    }\n",
              "\n",
              "    .colab-df-convert {\n",
              "      background-color: #E8F0FE;\n",
              "      border: none;\n",
              "      border-radius: 50%;\n",
              "      cursor: pointer;\n",
              "      display: none;\n",
              "      fill: #1967D2;\n",
              "      height: 32px;\n",
              "      padding: 0 0 0 0;\n",
              "      width: 32px;\n",
              "    }\n",
              "\n",
              "    .colab-df-convert:hover {\n",
              "      background-color: #E2EBFA;\n",
              "      box-shadow: 0px 1px 2px rgba(60, 64, 67, 0.3), 0px 1px 3px 1px rgba(60, 64, 67, 0.15);\n",
              "      fill: #174EA6;\n",
              "    }\n",
              "\n",
              "    [theme=dark] .colab-df-convert {\n",
              "      background-color: #3B4455;\n",
              "      fill: #D2E3FC;\n",
              "    }\n",
              "\n",
              "    [theme=dark] .colab-df-convert:hover {\n",
              "      background-color: #434B5C;\n",
              "      box-shadow: 0px 1px 3px 1px rgba(0, 0, 0, 0.15);\n",
              "      filter: drop-shadow(0px 1px 2px rgba(0, 0, 0, 0.3));\n",
              "      fill: #FFFFFF;\n",
              "    }\n",
              "  </style>\n",
              "\n",
              "      <script>\n",
              "        const buttonEl =\n",
              "          document.querySelector('#df-fd15c7f2-c269-4353-a37e-61fb3edc2724 button.colab-df-convert');\n",
              "        buttonEl.style.display =\n",
              "          google.colab.kernel.accessAllowed ? 'block' : 'none';\n",
              "\n",
              "        async function convertToInteractive(key) {\n",
              "          const element = document.querySelector('#df-fd15c7f2-c269-4353-a37e-61fb3edc2724');\n",
              "          const dataTable =\n",
              "            await google.colab.kernel.invokeFunction('convertToInteractive',\n",
              "                                                     [key], {});\n",
              "          if (!dataTable) return;\n",
              "\n",
              "          const docLinkHtml = 'Like what you see? Visit the ' +\n",
              "            '<a target=\"_blank\" href=https://colab.research.google.com/notebooks/data_table.ipynb>data table notebook</a>'\n",
              "            + ' to learn more about interactive tables.';\n",
              "          element.innerHTML = '';\n",
              "          dataTable['output_type'] = 'display_data';\n",
              "          await google.colab.output.renderOutput(dataTable, element);\n",
              "          const docLink = document.createElement('div');\n",
              "          docLink.innerHTML = docLinkHtml;\n",
              "          element.appendChild(docLink);\n",
              "        }\n",
              "      </script>\n",
              "    </div>\n",
              "  </div>\n",
              "  "
            ]
          },
          "metadata": {},
          "execution_count": 36
        }
      ]
    },
    {
      "cell_type": "markdown",
      "source": [
        "<font color=orange>**Obs.:**\n",
        "As coordenadas de latitude variam apenas entre -90 e 90.<br>\n",
        "Coordenadas de longitude varia apenas entre -180 e 180.</font>\n",
        "<br><br>\n",
        "- Podemos excluir todos os exemplos cujas longitudes e latitudes estão fora dos intervalos observados acima."
      ],
      "metadata": {
        "id": "S5h97I9S-vgS"
      }
    },
    {
      "cell_type": "code",
      "source": [
        "# excluindo os casos discrepantes\n",
        "print(f'Tamanho conjunto de dados (antes da remoção de valores faltantes): {len(df)}')\n",
        "df = df.loc[(df.pickup_latitude>=-90) & (df.pickup_latitude<=90)]\n",
        "df = df.loc[(df.pickup_longitude>=-180) & (df.pickup_longitude<=180)]\n",
        "df = df.loc[(df.dropoff_latitude>=-90) & (df.dropoff_latitude<=90)]\n",
        "df = df.loc[(df.dropoff_longitude>=-180) & (df.dropoff_longitude<=180)]\n",
        "print(f'Tamanho conjunto de dados (depois da remoção de valores faltantes): {len(df)}')"
      ],
      "metadata": {
        "colab": {
          "base_uri": "https://localhost:8080/"
        },
        "id": "ZHBXlWHL-FGp",
        "outputId": "d8a360b2-f7f5-4ecd-cc55-303d5b21d607"
      },
      "execution_count": null,
      "outputs": [
        {
          "output_type": "stream",
          "name": "stdout",
          "text": [
            "Tamanho conjunto de dados (antes da remoção de valores faltantes): 999519\n",
            "Tamanho conjunto de dados (depois da remoção de valores faltantes): 999479\n"
          ]
        }
      ]
    },
    {
      "cell_type": "markdown",
      "source": [
        "<font color=red>- Podemos substituir esse valores discrepantes pelo máximo e pelo mínimo da longitude e latitude</font>\n"
      ],
      "metadata": {
        "id": "sOjf_udNj2oH"
      }
    },
    {
      "cell_type": "code",
      "source": [
        "df[['pickup_latitude', 'pickup_longitude', 'dropoff_latitude', 'dropoff_longitude']].describe()"
      ],
      "metadata": {
        "colab": {
          "base_uri": "https://localhost:8080/",
          "height": 300
        },
        "id": "jbsKjsJm-yPV",
        "outputId": "c911b0db-6682-469b-90da-5666bad2fd4e"
      },
      "execution_count": null,
      "outputs": [
        {
          "output_type": "execute_result",
          "data": {
            "text/plain": [
              "       pickup_latitude  pickup_longitude  dropoff_latitude  dropoff_longitude\n",
              "count    999479.000000     999479.000000     999479.000000      999479.000000\n",
              "mean         39.928068        -72.519762         39.927656         -72.518556\n",
              "std           6.085292         10.385367          6.088085          10.386105\n",
              "min         -74.016587       -128.175950        -74.035197        -121.391248\n",
              "25%          40.734977        -73.992060         40.734055         -73.991382\n",
              "50%          40.752697        -73.981796         40.753165         -73.980136\n",
              "75%          40.767151        -73.967110         40.768122         -73.963666\n",
              "max          69.400000         40.850357         81.510177          45.581619"
            ],
            "text/html": [
              "\n",
              "  <div id=\"df-f3b98799-c911-4418-91f8-b194310fa79b\">\n",
              "    <div class=\"colab-df-container\">\n",
              "      <div>\n",
              "<style scoped>\n",
              "    .dataframe tbody tr th:only-of-type {\n",
              "        vertical-align: middle;\n",
              "    }\n",
              "\n",
              "    .dataframe tbody tr th {\n",
              "        vertical-align: top;\n",
              "    }\n",
              "\n",
              "    .dataframe thead th {\n",
              "        text-align: right;\n",
              "    }\n",
              "</style>\n",
              "<table border=\"1\" class=\"dataframe\">\n",
              "  <thead>\n",
              "    <tr style=\"text-align: right;\">\n",
              "      <th></th>\n",
              "      <th>pickup_latitude</th>\n",
              "      <th>pickup_longitude</th>\n",
              "      <th>dropoff_latitude</th>\n",
              "      <th>dropoff_longitude</th>\n",
              "    </tr>\n",
              "  </thead>\n",
              "  <tbody>\n",
              "    <tr>\n",
              "      <th>count</th>\n",
              "      <td>999479.000000</td>\n",
              "      <td>999479.000000</td>\n",
              "      <td>999479.000000</td>\n",
              "      <td>999479.000000</td>\n",
              "    </tr>\n",
              "    <tr>\n",
              "      <th>mean</th>\n",
              "      <td>39.928068</td>\n",
              "      <td>-72.519762</td>\n",
              "      <td>39.927656</td>\n",
              "      <td>-72.518556</td>\n",
              "    </tr>\n",
              "    <tr>\n",
              "      <th>std</th>\n",
              "      <td>6.085292</td>\n",
              "      <td>10.385367</td>\n",
              "      <td>6.088085</td>\n",
              "      <td>10.386105</td>\n",
              "    </tr>\n",
              "    <tr>\n",
              "      <th>min</th>\n",
              "      <td>-74.016587</td>\n",
              "      <td>-128.175950</td>\n",
              "      <td>-74.035197</td>\n",
              "      <td>-121.391248</td>\n",
              "    </tr>\n",
              "    <tr>\n",
              "      <th>25%</th>\n",
              "      <td>40.734977</td>\n",
              "      <td>-73.992060</td>\n",
              "      <td>40.734055</td>\n",
              "      <td>-73.991382</td>\n",
              "    </tr>\n",
              "    <tr>\n",
              "      <th>50%</th>\n",
              "      <td>40.752697</td>\n",
              "      <td>-73.981796</td>\n",
              "      <td>40.753165</td>\n",
              "      <td>-73.980136</td>\n",
              "    </tr>\n",
              "    <tr>\n",
              "      <th>75%</th>\n",
              "      <td>40.767151</td>\n",
              "      <td>-73.967110</td>\n",
              "      <td>40.768122</td>\n",
              "      <td>-73.963666</td>\n",
              "    </tr>\n",
              "    <tr>\n",
              "      <th>max</th>\n",
              "      <td>69.400000</td>\n",
              "      <td>40.850357</td>\n",
              "      <td>81.510177</td>\n",
              "      <td>45.581619</td>\n",
              "    </tr>\n",
              "  </tbody>\n",
              "</table>\n",
              "</div>\n",
              "      <button class=\"colab-df-convert\" onclick=\"convertToInteractive('df-f3b98799-c911-4418-91f8-b194310fa79b')\"\n",
              "              title=\"Convert this dataframe to an interactive table.\"\n",
              "              style=\"display:none;\">\n",
              "        \n",
              "  <svg xmlns=\"http://www.w3.org/2000/svg\" height=\"24px\"viewBox=\"0 0 24 24\"\n",
              "       width=\"24px\">\n",
              "    <path d=\"M0 0h24v24H0V0z\" fill=\"none\"/>\n",
              "    <path d=\"M18.56 5.44l.94 2.06.94-2.06 2.06-.94-2.06-.94-.94-2.06-.94 2.06-2.06.94zm-11 1L8.5 8.5l.94-2.06 2.06-.94-2.06-.94L8.5 2.5l-.94 2.06-2.06.94zm10 10l.94 2.06.94-2.06 2.06-.94-2.06-.94-.94-2.06-.94 2.06-2.06.94z\"/><path d=\"M17.41 7.96l-1.37-1.37c-.4-.4-.92-.59-1.43-.59-.52 0-1.04.2-1.43.59L10.3 9.45l-7.72 7.72c-.78.78-.78 2.05 0 2.83L4 21.41c.39.39.9.59 1.41.59.51 0 1.02-.2 1.41-.59l7.78-7.78 2.81-2.81c.8-.78.8-2.07 0-2.86zM5.41 20L4 18.59l7.72-7.72 1.47 1.35L5.41 20z\"/>\n",
              "  </svg>\n",
              "      </button>\n",
              "      \n",
              "  <style>\n",
              "    .colab-df-container {\n",
              "      display:flex;\n",
              "      flex-wrap:wrap;\n",
              "      gap: 12px;\n",
              "    }\n",
              "\n",
              "    .colab-df-convert {\n",
              "      background-color: #E8F0FE;\n",
              "      border: none;\n",
              "      border-radius: 50%;\n",
              "      cursor: pointer;\n",
              "      display: none;\n",
              "      fill: #1967D2;\n",
              "      height: 32px;\n",
              "      padding: 0 0 0 0;\n",
              "      width: 32px;\n",
              "    }\n",
              "\n",
              "    .colab-df-convert:hover {\n",
              "      background-color: #E2EBFA;\n",
              "      box-shadow: 0px 1px 2px rgba(60, 64, 67, 0.3), 0px 1px 3px 1px rgba(60, 64, 67, 0.15);\n",
              "      fill: #174EA6;\n",
              "    }\n",
              "\n",
              "    [theme=dark] .colab-df-convert {\n",
              "      background-color: #3B4455;\n",
              "      fill: #D2E3FC;\n",
              "    }\n",
              "\n",
              "    [theme=dark] .colab-df-convert:hover {\n",
              "      background-color: #434B5C;\n",
              "      box-shadow: 0px 1px 3px 1px rgba(0, 0, 0, 0.15);\n",
              "      filter: drop-shadow(0px 1px 2px rgba(0, 0, 0, 0.3));\n",
              "      fill: #FFFFFF;\n",
              "    }\n",
              "  </style>\n",
              "\n",
              "      <script>\n",
              "        const buttonEl =\n",
              "          document.querySelector('#df-f3b98799-c911-4418-91f8-b194310fa79b button.colab-df-convert');\n",
              "        buttonEl.style.display =\n",
              "          google.colab.kernel.accessAllowed ? 'block' : 'none';\n",
              "\n",
              "        async function convertToInteractive(key) {\n",
              "          const element = document.querySelector('#df-f3b98799-c911-4418-91f8-b194310fa79b');\n",
              "          const dataTable =\n",
              "            await google.colab.kernel.invokeFunction('convertToInteractive',\n",
              "                                                     [key], {});\n",
              "          if (!dataTable) return;\n",
              "\n",
              "          const docLinkHtml = 'Like what you see? Visit the ' +\n",
              "            '<a target=\"_blank\" href=https://colab.research.google.com/notebooks/data_table.ipynb>data table notebook</a>'\n",
              "            + ' to learn more about interactive tables.';\n",
              "          element.innerHTML = '';\n",
              "          dataTable['output_type'] = 'display_data';\n",
              "          await google.colab.output.renderOutput(dataTable, element);\n",
              "          const docLink = document.createElement('div');\n",
              "          docLink.innerHTML = docLinkHtml;\n",
              "          element.appendChild(docLink);\n",
              "        }\n",
              "      </script>\n",
              "    </div>\n",
              "  </div>\n",
              "  "
            ]
          },
          "metadata": {},
          "execution_count": 38
        }
      ]
    },
    {
      "cell_type": "markdown",
      "source": [
        "### Pontos de origem da corrida"
      ],
      "metadata": {
        "id": "EssA2IrI-3k-"
      }
    },
    {
      "cell_type": "code",
      "source": [
        "df.plot(kind='scatter', x='pickup_longitude', y='pickup_latitude',\n",
        "                color='green',\n",
        "                s=.02, alpha=.6)\n",
        "plt.title(\"Pickups (coordenadas dos locais de início das corridas do conjunto de dados)\");"
      ],
      "metadata": {
        "colab": {
          "base_uri": "https://localhost:8080/",
          "height": 296
        },
        "id": "y8NYGWw0-2Wx",
        "outputId": "ec6d5d95-6777-4cc8-a60d-9a4fbefcbcfd"
      },
      "execution_count": null,
      "outputs": [
        {
          "output_type": "display_data",
          "data": {
            "text/plain": [
              "<Figure size 432x288 with 1 Axes>"
            ],
            "image/png": "[encoded data removed]"
          },
          "metadata": {
            "needs_background": "light"
          }
        }
      ]
    },
    {
      "cell_type": "markdown",
      "source": [
        "Conforme podemos notar no gráfico acima, parece que algumas corridas ainda são outliers, visto que estão muito distantes das demais, um indício de que essas viagens não tiveram origem na cidade de New York. Vamos remover os casos de pontos que não estão no intervalo abaixo:"
      ],
      "metadata": {
        "id": "xepKlzNG_Ajz"
      }
    },
    {
      "cell_type": "code",
      "source": [
        "# corte para termos noção melhor da longitude e latitude\n",
        "long_interval = (-74.04, -73.75)\n",
        "lat_interval = (40.63, 40.88)"
      ],
      "metadata": {
        "id": "Q050ARUi--B9"
      },
      "execution_count": null,
      "outputs": []
    },
    {
      "cell_type": "code",
      "source": [
        "df.plot(kind='scatter', x='pickup_longitude', y='pickup_latitude',\n",
        "                color='green',\n",
        "                s=.02, alpha=.6)\n",
        "plt.title(\"Origens das corridas\")\n",
        "plt.ylim(lat_interval)\n",
        "plt.xlim(long_interval);"
      ],
      "metadata": {
        "colab": {
          "base_uri": "https://localhost:8080/",
          "height": 296
        },
        "id": "tyTAbcOW_Cs0",
        "outputId": "f1c87fe0-b29a-4192-ccff-7ab326ec06af"
      },
      "execution_count": null,
      "outputs": [
        {
          "output_type": "display_data",
          "data": {
            "text/plain": [
              "<Figure size 432x288 with 1 Axes>"
            ],
            "image/png": "[encoded data removed]"
          },
          "metadata": {
            "needs_background": "light"
          }
        }
      ]
    },
    {
      "cell_type": "markdown",
      "source": [
        "Vamos então filtrar novamente as longitudes e latitudes para considerar somente esses intervalos:"
      ],
      "metadata": {
        "id": "0du-DdbT_GBn"
      }
    },
    {
      "cell_type": "code",
      "source": [
        "# excluindo quem está fora desse limiar - tivemos lagumas perdas de dados\n",
        "print(f'Tamanho conjunto de dados (antes da remoção de valores faltantes): {len(df)}')\n",
        "df = df.loc[(df.pickup_latitude>=40.63) & (df.pickup_latitude<=40.88)]\n",
        "df = df.loc[(df.pickup_longitude>=-74.04) & (df.pickup_longitude<=-73.75)]\n",
        "df = df.loc[(df.dropoff_latitude>=40.63) & (df.dropoff_latitude<=40.88)]\n",
        "df = df.loc[(df.dropoff_longitude>=-74.04) & (df.dropoff_longitude<=-73.75)]\n",
        "print(f'Tamanho conjunto de dados (depois da remoção de valores faltantes): {len(df)}')"
      ],
      "metadata": {
        "colab": {
          "base_uri": "https://localhost:8080/"
        },
        "id": "IhCF208w_D5n",
        "outputId": "bbc0f18f-6f29-473a-f045-89d1901e5653"
      },
      "execution_count": null,
      "outputs": [
        {
          "output_type": "stream",
          "name": "stdout",
          "text": [
            "Tamanho conjunto de dados (antes da remoção de valores faltantes): 999479\n",
            "Tamanho conjunto de dados (depois da remoção de valores faltantes): 970979\n"
          ]
        }
      ]
    },
    {
      "cell_type": "code",
      "source": [
        "df.plot(kind='scatter',\n",
        "        x='dropoff_longitude',\n",
        "        y='dropoff_latitude',\n",
        "        color='green',\n",
        "        s=.02,\n",
        "        alpha=.6)\n",
        "plt.title(\"Destinos das corridas\");"
      ],
      "metadata": {
        "colab": {
          "base_uri": "https://localhost:8080/",
          "height": 296
        },
        "id": "1qbiq4Rt7b73",
        "outputId": "52d93cb1-9549-432d-c422-a36d78a37209"
      },
      "execution_count": null,
      "outputs": [
        {
          "output_type": "display_data",
          "data": {
            "text/plain": [
              "<Figure size 432x288 with 1 Axes>"
            ],
            "image/png": "[encoded data removed]"
          },
          "metadata": {
            "needs_background": "light"
          }
        }
      ]
    },
    {
      "cell_type": "markdown",
      "source": [
        "### Pontos de destino da corrida"
      ],
      "metadata": {
        "id": "2tpslDjf_Jn5"
      }
    },
    {
      "cell_type": "markdown",
      "source": [
        "Comparando com o \"mapa\" das origens, conseguimos ver que há mais destinos fora de Manhattan, o que indica que muitas corridas começam em Manhattan e terminar no Brooklyn e no Queens.\n",
        "\n",
        "Além dessa limpeza de outliers, também podemos criar novas variáveis, como as de diferenças absolutas entre as latitudes e as longitudes de origem e destino das corridas:"
      ],
      "metadata": {
        "id": "fFXWtIIx_UuJ"
      }
    },
    {
      "cell_type": "code",
      "source": [
        "# ponto de origem ate o destino\n",
        "df['abs_diff_longitude'] = (df.dropoff_longitude - df.pickup_longitude).abs()\n",
        "df['abs_diff_latitude'] = (df.dropoff_latitude - df.pickup_latitude).abs()"
      ],
      "metadata": {
        "id": "X-rlZeE9_R28"
      },
      "execution_count": null,
      "outputs": []
    },
    {
      "cell_type": "markdown",
      "source": [
        "<font color=red>Calcular a distancia</font>"
      ],
      "metadata": {
        "id": "ybHJU_j1mZvj"
      }
    },
    {
      "cell_type": "code",
      "source": [
        "df[['abs_diff_latitude', 'abs_diff_longitude']].describe()"
      ],
      "metadata": {
        "colab": {
          "base_uri": "https://localhost:8080/",
          "height": 300
        },
        "id": "Y1TkxkIV_WwQ",
        "outputId": "ec64d3a9-5925-4c26-bea3-5eb2d3aafc67"
      },
      "execution_count": null,
      "outputs": [
        {
          "output_type": "execute_result",
          "data": {
            "text/plain": [
              "       abs_diff_latitude  abs_diff_longitude\n",
              "count      970979.000000       970979.000000\n",
              "mean            0.020785            0.022129\n",
              "std             0.021742            0.032358\n",
              "min             0.000000            0.000000\n",
              "25%             0.006921            0.006116\n",
              "50%             0.014084            0.012630\n",
              "75%             0.026880            0.023665\n",
              "max             0.237560            0.260020"
            ],
            "text/html": [
              "\n",
              "  <div id=\"df-80677ce8-3c99-4321-bfa3-1a04fc04983c\">\n",
              "    <div class=\"colab-df-container\">\n",
              "      <div>\n",
              "<style scoped>\n",
              "    .dataframe tbody tr th:only-of-type {\n",
              "        vertical-align: middle;\n",
              "    }\n",
              "\n",
              "    .dataframe tbody tr th {\n",
              "        vertical-align: top;\n",
              "    }\n",
              "\n",
              "    .dataframe thead th {\n",
              "        text-align: right;\n",
              "    }\n",
              "</style>\n",
              "<table border=\"1\" class=\"dataframe\">\n",
              "  <thead>\n",
              "    <tr style=\"text-align: right;\">\n",
              "      <th></th>\n",
              "      <th>abs_diff_latitude</th>\n",
              "      <th>abs_diff_longitude</th>\n",
              "    </tr>\n",
              "  </thead>\n",
              "  <tbody>\n",
              "    <tr>\n",
              "      <th>count</th>\n",
              "      <td>970979.000000</td>\n",
              "      <td>970979.000000</td>\n",
              "    </tr>\n",
              "    <tr>\n",
              "      <th>mean</th>\n",
              "      <td>0.020785</td>\n",
              "      <td>0.022129</td>\n",
              "    </tr>\n",
              "    <tr>\n",
              "      <th>std</th>\n",
              "      <td>0.021742</td>\n",
              "      <td>0.032358</td>\n",
              "    </tr>\n",
              "    <tr>\n",
              "      <th>min</th>\n",
              "      <td>0.000000</td>\n",
              "      <td>0.000000</td>\n",
              "    </tr>\n",
              "    <tr>\n",
              "      <th>25%</th>\n",
              "      <td>0.006921</td>\n",
              "      <td>0.006116</td>\n",
              "    </tr>\n",
              "    <tr>\n",
              "      <th>50%</th>\n",
              "      <td>0.014084</td>\n",
              "      <td>0.012630</td>\n",
              "    </tr>\n",
              "    <tr>\n",
              "      <th>75%</th>\n",
              "      <td>0.026880</td>\n",
              "      <td>0.023665</td>\n",
              "    </tr>\n",
              "    <tr>\n",
              "      <th>max</th>\n",
              "      <td>0.237560</td>\n",
              "      <td>0.260020</td>\n",
              "    </tr>\n",
              "  </tbody>\n",
              "</table>\n",
              "</div>\n",
              "      <button class=\"colab-df-convert\" onclick=\"convertToInteractive('df-80677ce8-3c99-4321-bfa3-1a04fc04983c')\"\n",
              "              title=\"Convert this dataframe to an interactive table.\"\n",
              "              style=\"display:none;\">\n",
              "        \n",
              "  <svg xmlns=\"http://www.w3.org/2000/svg\" height=\"24px\"viewBox=\"0 0 24 24\"\n",
              "       width=\"24px\">\n",
              "    <path d=\"M0 0h24v24H0V0z\" fill=\"none\"/>\n",
              "    <path d=\"M18.56 5.44l.94 2.06.94-2.06 2.06-.94-2.06-.94-.94-2.06-.94 2.06-2.06.94zm-11 1L8.5 8.5l.94-2.06 2.06-.94-2.06-.94L8.5 2.5l-.94 2.06-2.06.94zm10 10l.94 2.06.94-2.06 2.06-.94-2.06-.94-.94-2.06-.94 2.06-2.06.94z\"/><path d=\"M17.41 7.96l-1.37-1.37c-.4-.4-.92-.59-1.43-.59-.52 0-1.04.2-1.43.59L10.3 9.45l-7.72 7.72c-.78.78-.78 2.05 0 2.83L4 21.41c.39.39.9.59 1.41.59.51 0 1.02-.2 1.41-.59l7.78-7.78 2.81-2.81c.8-.78.8-2.07 0-2.86zM5.41 20L4 18.59l7.72-7.72 1.47 1.35L5.41 20z\"/>\n",
              "  </svg>\n",
              "      </button>\n",
              "      \n",
              "  <style>\n",
              "    .colab-df-container {\n",
              "      display:flex;\n",
              "      flex-wrap:wrap;\n",
              "      gap: 12px;\n",
              "    }\n",
              "\n",
              "    .colab-df-convert {\n",
              "      background-color: #E8F0FE;\n",
              "      border: none;\n",
              "      border-radius: 50%;\n",
              "      cursor: pointer;\n",
              "      display: none;\n",
              "      fill: #1967D2;\n",
              "      height: 32px;\n",
              "      padding: 0 0 0 0;\n",
              "      width: 32px;\n",
              "    }\n",
              "\n",
              "    .colab-df-convert:hover {\n",
              "      background-color: #E2EBFA;\n",
              "      box-shadow: 0px 1px 2px rgba(60, 64, 67, 0.3), 0px 1px 3px 1px rgba(60, 64, 67, 0.15);\n",
              "      fill: #174EA6;\n",
              "    }\n",
              "\n",
              "    [theme=dark] .colab-df-convert {\n",
              "      background-color: #3B4455;\n",
              "      fill: #D2E3FC;\n",
              "    }\n",
              "\n",
              "    [theme=dark] .colab-df-convert:hover {\n",
              "      background-color: #434B5C;\n",
              "      box-shadow: 0px 1px 3px 1px rgba(0, 0, 0, 0.15);\n",
              "      filter: drop-shadow(0px 1px 2px rgba(0, 0, 0, 0.3));\n",
              "      fill: #FFFFFF;\n",
              "    }\n",
              "  </style>\n",
              "\n",
              "      <script>\n",
              "        const buttonEl =\n",
              "          document.querySelector('#df-80677ce8-3c99-4321-bfa3-1a04fc04983c button.colab-df-convert');\n",
              "        buttonEl.style.display =\n",
              "          google.colab.kernel.accessAllowed ? 'block' : 'none';\n",
              "\n",
              "        async function convertToInteractive(key) {\n",
              "          const element = document.querySelector('#df-80677ce8-3c99-4321-bfa3-1a04fc04983c');\n",
              "          const dataTable =\n",
              "            await google.colab.kernel.invokeFunction('convertToInteractive',\n",
              "                                                     [key], {});\n",
              "          if (!dataTable) return;\n",
              "\n",
              "          const docLinkHtml = 'Like what you see? Visit the ' +\n",
              "            '<a target=\"_blank\" href=https://colab.research.google.com/notebooks/data_table.ipynb>data table notebook</a>'\n",
              "            + ' to learn more about interactive tables.';\n",
              "          element.innerHTML = '';\n",
              "          dataTable['output_type'] = 'display_data';\n",
              "          await google.colab.output.renderOutput(dataTable, element);\n",
              "          const docLink = document.createElement('div');\n",
              "          docLink.innerHTML = docLinkHtml;\n",
              "          element.appendChild(docLink);\n",
              "        }\n",
              "      </script>\n",
              "    </div>\n",
              "  </div>\n",
              "  "
            ]
          },
          "metadata": {},
          "execution_count": 45
        }
      ]
    },
    {
      "cell_type": "markdown",
      "source": [
        "### passenger_count"
      ],
      "metadata": {
        "id": "222S3W7z_gt4"
      }
    },
    {
      "cell_type": "markdown",
      "source": [
        "- Conforme vimos, há casos de corridas com 208 passageiros\n",
        "- E também corridas sem passageiros.\n",
        "\n",
        "Vamos supor que todos os carros de táxi só cabem 5 pessoas e, como já há o motorista, o número de passageiros deve ser no máximo 4. Assim, vamos excluir do nosso conjunto de dados os casos de corridas sem passageiros ou com mais de 4"
      ],
      "metadata": {
        "id": "5y9TaL3d_lYt"
      }
    },
    {
      "cell_type": "code",
      "source": [
        "len(df.loc[df.passenger_count<1])"
      ],
      "metadata": {
        "colab": {
          "base_uri": "https://localhost:8080/"
        },
        "id": "6Kn8XpRD_YzT",
        "outputId": "173da849-5982-47f1-907a-e7bfee131633"
      },
      "execution_count": null,
      "outputs": [
        {
          "output_type": "execute_result",
          "data": {
            "text/plain": [
              "3466"
            ]
          },
          "metadata": {},
          "execution_count": 46
        }
      ]
    },
    {
      "cell_type": "code",
      "source": [
        "len(df.loc[df.passenger_count>4])"
      ],
      "metadata": {
        "colab": {
          "base_uri": "https://localhost:8080/"
        },
        "id": "L3SKHd3d_nmx",
        "outputId": "5323d24c-769c-4297-f581-3f3bad45a596"
      },
      "execution_count": null,
      "outputs": [
        {
          "output_type": "execute_result",
          "data": {
            "text/plain": [
              "89097"
            ]
          },
          "metadata": {},
          "execution_count": 47
        }
      ]
    },
    {
      "cell_type": "code",
      "source": [
        "df = df.loc[(df.passenger_count > 0) & (df.passenger_count<5)]"
      ],
      "metadata": {
        "id": "XjRPJd9t_pD0"
      },
      "execution_count": null,
      "outputs": []
    },
    {
      "cell_type": "markdown",
      "source": [
        "df = df.loc[(df.passenger_count > 1) & (df.passenger_count<5)]\n",
        "- colocar 1"
      ],
      "metadata": {
        "id": "GbelTMWXnFFO"
      }
    },
    {
      "cell_type": "code",
      "source": [
        "sns.countplot(df['passenger_count']).set_title(\"Contagem de corridas com base no quantidade de passageiros\");"
      ],
      "metadata": {
        "colab": {
          "base_uri": "https://localhost:8080/",
          "height": 296
        },
        "id": "BIZlpolz_q3N",
        "outputId": "f393e0c5-23f6-40d2-bd59-f85535b22526"
      },
      "execution_count": null,
      "outputs": [
        {
          "output_type": "display_data",
          "data": {
            "text/plain": [
              "<Figure size 432x288 with 1 Axes>"
            ],
            "image/png": "[encoded data removed]"
          },
          "metadata": {
            "needs_background": "light"
          }
        }
      ]
    },
    {
      "cell_type": "code",
      "source": [
        "sns.catplot(x=\"passenger_count\",\n",
        "            y=\"fare_amount\",\n",
        "            data=df,\n",
        "            kind=\"bar\").set(title=\"Valor médio pago pela corrida de acordo com a quantidade de passageiros\");"
      ],
      "metadata": {
        "colab": {
          "base_uri": "https://localhost:8080/",
          "height": 385
        },
        "id": "gbtqBfo7_szE",
        "outputId": "a8230145-f505-4923-84b4-e3f7227b7152"
      },
      "execution_count": null,
      "outputs": [
        {
          "output_type": "display_data",
          "data": {
            "text/plain": [
              "<Figure size 360x360 with 1 Axes>"
            ],
            "image/png": "[encoded data removed]"
          },
          "metadata": {
            "needs_background": "light"
          }
        }
      ]
    },
    {
      "cell_type": "markdown",
      "source": [
        "- São pouquíssimas as corridas com 4 passageiros;\n",
        "- A maioria absoluta das corridas possui 1 passageiro.\n",
        "- Com relação ao valor pago, essas corridas com somente um passageiro parecem ter uma média ligeiramente menor do que as corridas com mais passageiros."
      ],
      "metadata": {
        "id": "UJ8_Vn4L_1sY"
      }
    },
    {
      "cell_type": "markdown",
      "source": [
        "## Correlação"
      ],
      "metadata": {
        "id": "0O8_xuoh_8xW"
      }
    },
    {
      "cell_type": "code",
      "source": [
        "# Generate a mask for the upper triangle\n",
        "mask = np.zeros_like(df.corr(), dtype=np.bool)\n",
        "mask[np.triu_indices_from(mask)] = True\n",
        "\n",
        "# Generate a custom diverging colormap\n",
        "cmap = sns.diverging_palette(220, 10, as_cmap=True)\n",
        "\n",
        "# Draw the heatmap with the mask and correct aspect ratio\n",
        "sns.heatmap(df.corr(),\n",
        "            mask=mask,\n",
        "            cmap=cmap,\n",
        "            center=0,\n",
        "            square=True,\n",
        "            linewidths=.5,\n",
        "            cbar_kws={\"shrink\": .5}).set_title(\"Correlação entre as variáveis numéricas presentes no conjunto de dados\");"
      ],
      "metadata": {
        "colab": {
          "base_uri": "https://localhost:8080/",
          "height": 373
        },
        "id": "kkPev7fw_ubb",
        "outputId": "c8fdc200-4753-4352-f389-823acd3f2e6e"
      },
      "execution_count": null,
      "outputs": [
        {
          "output_type": "display_data",
          "data": {
            "text/plain": [
              "<Figure size 432x288 with 2 Axes>"
            ],
            "image/png": "[encoded data removed]"
          },
          "metadata": {
            "needs_background": "light"
          }
        }
      ]
    },
    {
      "cell_type": "markdown",
      "source": [
        "- Na matriz de correlação acima, as features que criadas referentes às coordenadas de latitude e longitude são as mais correlacionadas com o nosso target 'fare_amount'.\n",
        "\n",
        "<font color=red>\n",
        "- Ver os dias de feriados nos Estados Unidos\n",
        "- Tempo no horário do ínicio da corrida (se estava chovendo, muito frio, etc.)\n",
        "- Calcular a distância entre os pontos de origem e destino da corrida\n",
        "- Proximidade com estação de metrô</font>\n",
        "\n",
        "\n"
      ],
      "metadata": {
        "id": "bJm-LZA7AMZC"
      }
    },
    {
      "cell_type": "markdown",
      "source": [
        "## Regressão Linear Simples\n"
      ],
      "metadata": {
        "id": "n_41-bLwpB1H"
      }
    },
    {
      "cell_type": "code",
      "source": [
        "from sklearn.linear_model import LinearRegression"
      ],
      "metadata": {
        "id": "DHRgyVQqAGnv"
      },
      "execution_count": null,
      "outputs": []
    },
    {
      "cell_type": "code",
      "source": [
        "# Variável target x variável com a diferença absoluta entre as longitudes de origem e destino\n",
        "_ = df.plot.scatter(x='abs_diff_longitude', y='fare_amount', figsize=(10, 7))\n",
        "_ = plt.title('Diferença absoluta da longitude x Valor pago na corrida')"
      ],
      "metadata": {
        "colab": {
          "base_uri": "https://localhost:8080/",
          "height": 459
        },
        "id": "6A3chwQjA_Lp",
        "outputId": "a8216f96-8af5-4d60-9e0f-6338bd60853e"
      },
      "execution_count": null,
      "outputs": [
        {
          "output_type": "display_data",
          "data": {
            "text/plain": [
              "<Figure size 720x504 with 1 Axes>"
            ],
            "image/png": "[encoded data removed]"
          },
          "metadata": {
            "needs_background": "light"
          }
        }
      ]
    },
    {
      "cell_type": "code",
      "source": [
        "df.fare_amount.corr(df.abs_diff_longitude)"
      ],
      "metadata": {
        "colab": {
          "base_uri": "https://localhost:8080/"
        },
        "id": "R_NPf224BAix",
        "outputId": "f0be76a6-1b97-4ea9-b106-361f524d8ebc"
      },
      "execution_count": null,
      "outputs": [
        {
          "output_type": "execute_result",
          "data": {
            "text/plain": [
              "0.8250564877600102"
            ]
          },
          "metadata": {},
          "execution_count": 54
        }
      ]
    },
    {
      "cell_type": "markdown",
      "source": [
        "Aparentemente, essa feature é uma boa indicadora para o preço da corrida, visto que a correlação é alta e parece haver uma tendência de que, quanto maior a a diferença da longitude, maior é o preço."
      ],
      "metadata": {
        "id": "EhpekYEUBEeW"
      }
    },
    {
      "cell_type": "markdown",
      "source": [
        "### Separação do conjunto de treino e teste"
      ],
      "metadata": {
        "id": "fl53RRZjBFuh"
      }
    },
    {
      "cell_type": "code",
      "source": [
        "Y = df['fare_amount']\n",
        "# estamos retirando do X\n",
        "# não podemos deixar o modelo aprender pelo target. Evitar vazar resposta para o modelo\n",
        "del df['fare_amount']\n",
        "X = df"
      ],
      "metadata": {
        "id": "VuTVWXswBCUR"
      },
      "execution_count": null,
      "outputs": []
    },
    {
      "cell_type": "markdown",
      "source": [
        "- Teremos uma base que será vista pelo modelo, assim podermos verificar se o nosso modelo generalizou ou decorou o conjunto de dados.\n",
        "- Separar os conjuntos em treino e teste: Saber o que são variáveis e o que são os targets\n",
        "- Treino: usado para treinar o modelo\n",
        "- Teste: usado para avaliar se o modelo está bom.\n",
        "\n"
      ],
      "metadata": {
        "id": "rAvVX93dqjFa"
      }
    },
    {
      "cell_type": "code",
      "source": [
        "X_train, X_test, Y_train, Y_test = train_test_split(X, Y, test_size = 0.30, random_state = 42)"
      ],
      "metadata": {
        "id": "IGk6EXWaBNYh"
      },
      "execution_count": null,
      "outputs": []
    },
    {
      "cell_type": "code",
      "source": [
        "print(X_train.shape)\n",
        "X_train.head(1)"
      ],
      "metadata": {
        "colab": {
          "base_uri": "https://localhost:8080/"
        },
        "id": "TknPUtkyBOeK",
        "outputId": "fef416e0-3d98-487e-c0c0-528950405875"
      },
      "execution_count": null,
      "outputs": [
        {
          "output_type": "stream",
          "name": "stdout",
          "text": [
            "(614891, 15)\n"
          ]
        },
        {
          "output_type": "execute_result",
          "data": {
            "text/plain": [
              "                                key     pickup_datetime  pickup_longitude  \\\n",
              "401364  2015-04-01 09:35:10.0000001 2015-04-01 09:35:10         -73.90744   \n",
              "\n",
              "        pickup_latitude  dropoff_longitude  dropoff_latitude  passenger_count  \\\n",
              "401364        40.753376         -73.930832         40.744534                1   \n",
              "\n",
              "        pickup_hour  pickup_day_of_week  pickup_day  pickup_month  \\\n",
              "401364            9                   2           1             4   \n",
              "\n",
              "        pickup_year pickup_day_of_week_name  abs_diff_longitude  \\\n",
              "401364         2015                  Quarta            0.023392   \n",
              "\n",
              "        abs_diff_latitude  \n",
              "401364           0.008842  "
            ],
            "text/html": [
              "\n",
              "  <div id=\"df-97719597-05fc-4396-9543-7eedd52b8b61\">\n",
              "    <div class=\"colab-df-container\">\n",
              "      <div>\n",
              "<style scoped>\n",
              "    .dataframe tbody tr th:only-of-type {\n",
              "        vertical-align: middle;\n",
              "    }\n",
              "\n",
              "    .dataframe tbody tr th {\n",
              "        vertical-align: top;\n",
              "    }\n",
              "\n",
              "    .dataframe thead th {\n",
              "        text-align: right;\n",
              "    }\n",
              "</style>\n",
              "<table border=\"1\" class=\"dataframe\">\n",
              "  <thead>\n",
              "    <tr style=\"text-align: right;\">\n",
              "      <th></th>\n",
              "      <th>key</th>\n",
              "      <th>pickup_datetime</th>\n",
              "      <th>pickup_longitude</th>\n",
              "      <th>pickup_latitude</th>\n",
              "      <th>dropoff_longitude</th>\n",
              "      <th>dropoff_latitude</th>\n",
              "      <th>passenger_count</th>\n",
              "      <th>pickup_hour</th>\n",
              "      <th>pickup_day_of_week</th>\n",
              "      <th>pickup_day</th>\n",
              "      <th>pickup_month</th>\n",
              "      <th>pickup_year</th>\n",
              "      <th>pickup_day_of_week_name</th>\n",
              "      <th>abs_diff_longitude</th>\n",
              "      <th>abs_diff_latitude</th>\n",
              "    </tr>\n",
              "  </thead>\n",
              "  <tbody>\n",
              "    <tr>\n",
              "      <th>401364</th>\n",
              "      <td>2015-04-01 09:35:10.0000001</td>\n",
              "      <td>2015-04-01 09:35:10</td>\n",
              "      <td>-73.90744</td>\n",
              "      <td>40.753376</td>\n",
              "      <td>-73.930832</td>\n",
              "      <td>40.744534</td>\n",
              "      <td>1</td>\n",
              "      <td>9</td>\n",
              "      <td>2</td>\n",
              "      <td>1</td>\n",
              "      <td>4</td>\n",
              "      <td>2015</td>\n",
              "      <td>Quarta</td>\n",
              "      <td>0.023392</td>\n",
              "      <td>0.008842</td>\n",
              "    </tr>\n",
              "  </tbody>\n",
              "</table>\n",
              "</div>\n",
              "      <button class=\"colab-df-convert\" onclick=\"convertToInteractive('df-97719597-05fc-4396-9543-7eedd52b8b61')\"\n",
              "              title=\"Convert this dataframe to an interactive table.\"\n",
              "              style=\"display:none;\">\n",
              "        \n",
              "  <svg xmlns=\"http://www.w3.org/2000/svg\" height=\"24px\"viewBox=\"0 0 24 24\"\n",
              "       width=\"24px\">\n",
              "    <path d=\"M0 0h24v24H0V0z\" fill=\"none\"/>\n",
              "    <path d=\"M18.56 5.44l.94 2.06.94-2.06 2.06-.94-2.06-.94-.94-2.06-.94 2.06-2.06.94zm-11 1L8.5 8.5l.94-2.06 2.06-.94-2.06-.94L8.5 2.5l-.94 2.06-2.06.94zm10 10l.94 2.06.94-2.06 2.06-.94-2.06-.94-.94-2.06-.94 2.06-2.06.94z\"/><path d=\"M17.41 7.96l-1.37-1.37c-.4-.4-.92-.59-1.43-.59-.52 0-1.04.2-1.43.59L10.3 9.45l-7.72 7.72c-.78.78-.78 2.05 0 2.83L4 21.41c.39.39.9.59 1.41.59.51 0 1.02-.2 1.41-.59l7.78-7.78 2.81-2.81c.8-.78.8-2.07 0-2.86zM5.41 20L4 18.59l7.72-7.72 1.47 1.35L5.41 20z\"/>\n",
              "  </svg>\n",
              "      </button>\n",
              "      \n",
              "  <style>\n",
              "    .colab-df-container {\n",
              "      display:flex;\n",
              "      flex-wrap:wrap;\n",
              "      gap: 12px;\n",
              "    }\n",
              "\n",
              "    .colab-df-convert {\n",
              "      background-color: #E8F0FE;\n",
              "      border: none;\n",
              "      border-radius: 50%;\n",
              "      cursor: pointer;\n",
              "      display: none;\n",
              "      fill: #1967D2;\n",
              "      height: 32px;\n",
              "      padding: 0 0 0 0;\n",
              "      width: 32px;\n",
              "    }\n",
              "\n",
              "    .colab-df-convert:hover {\n",
              "      background-color: #E2EBFA;\n",
              "      box-shadow: 0px 1px 2px rgba(60, 64, 67, 0.3), 0px 1px 3px 1px rgba(60, 64, 67, 0.15);\n",
              "      fill: #174EA6;\n",
              "    }\n",
              "\n",
              "    [theme=dark] .colab-df-convert {\n",
              "      background-color: #3B4455;\n",
              "      fill: #D2E3FC;\n",
              "    }\n",
              "\n",
              "    [theme=dark] .colab-df-convert:hover {\n",
              "      background-color: #434B5C;\n",
              "      box-shadow: 0px 1px 3px 1px rgba(0, 0, 0, 0.15);\n",
              "      filter: drop-shadow(0px 1px 2px rgba(0, 0, 0, 0.3));\n",
              "      fill: #FFFFFF;\n",
              "    }\n",
              "  </style>\n",
              "\n",
              "      <script>\n",
              "        const buttonEl =\n",
              "          document.querySelector('#df-97719597-05fc-4396-9543-7eedd52b8b61 button.colab-df-convert');\n",
              "        buttonEl.style.display =\n",
              "          google.colab.kernel.accessAllowed ? 'block' : 'none';\n",
              "\n",
              "        async function convertToInteractive(key) {\n",
              "          const element = document.querySelector('#df-97719597-05fc-4396-9543-7eedd52b8b61');\n",
              "          const dataTable =\n",
              "            await google.colab.kernel.invokeFunction('convertToInteractive',\n",
              "                                                     [key], {});\n",
              "          if (!dataTable) return;\n",
              "\n",
              "          const docLinkHtml = 'Like what you see? Visit the ' +\n",
              "            '<a target=\"_blank\" href=https://colab.research.google.com/notebooks/data_table.ipynb>data table notebook</a>'\n",
              "            + ' to learn more about interactive tables.';\n",
              "          element.innerHTML = '';\n",
              "          dataTable['output_type'] = 'display_data';\n",
              "          await google.colab.output.renderOutput(dataTable, element);\n",
              "          const docLink = document.createElement('div');\n",
              "          docLink.innerHTML = docLinkHtml;\n",
              "          element.appendChild(docLink);\n",
              "        }\n",
              "      </script>\n",
              "    </div>\n",
              "  </div>\n",
              "  "
            ]
          },
          "metadata": {},
          "execution_count": 57
        }
      ]
    },
    {
      "cell_type": "code",
      "source": [
        "print(Y_train.shape)\n",
        "Y_train.head(1)"
      ],
      "metadata": {
        "colab": {
          "base_uri": "https://localhost:8080/"
        },
        "id": "6Pk590JLBPkp",
        "outputId": "0ca20ef0-8ffa-4cea-8055-0b38c1411654"
      },
      "execution_count": null,
      "outputs": [
        {
          "output_type": "stream",
          "name": "stdout",
          "text": [
            "(614891,)\n"
          ]
        },
        {
          "output_type": "execute_result",
          "data": {
            "text/plain": [
              "401364    8.0\n",
              "Name: fare_amount, dtype: float64"
            ]
          },
          "metadata": {},
          "execution_count": 58
        }
      ]
    },
    {
      "cell_type": "code",
      "source": [
        "print(X_test.shape)\n",
        "X_test.head(1)"
      ],
      "metadata": {
        "colab": {
          "base_uri": "https://localhost:8080/"
        },
        "id": "TnjR36KaBRyA",
        "outputId": "c5f57a9d-9ce7-4f90-9f4f-b734e13ee30d"
      },
      "execution_count": null,
      "outputs": [
        {
          "output_type": "stream",
          "name": "stdout",
          "text": [
            "(263525, 15)\n"
          ]
        },
        {
          "output_type": "execute_result",
          "data": {
            "text/plain": [
              "                                  key     pickup_datetime  pickup_longitude  \\\n",
              "823733  2011-02-26 20:26:00.000000110 2011-02-26 20:26:00        -73.862735   \n",
              "\n",
              "        pickup_latitude  dropoff_longitude  dropoff_latitude  passenger_count  \\\n",
              "823733         40.76883         -73.969447         40.797897                1   \n",
              "\n",
              "        pickup_hour  pickup_day_of_week  pickup_day  pickup_month  \\\n",
              "823733           20                   5          26             2   \n",
              "\n",
              "        pickup_year pickup_day_of_week_name  abs_diff_longitude  \\\n",
              "823733         2011                  Sábado            0.106712   \n",
              "\n",
              "        abs_diff_latitude  \n",
              "823733           0.029067  "
            ],
            "text/html": [
              "\n",
              "  <div id=\"df-9f716bb8-33ae-418c-a0d8-c20cd209f5e2\">\n",
              "    <div class=\"colab-df-container\">\n",
              "      <div>\n",
              "<style scoped>\n",
              "    .dataframe tbody tr th:only-of-type {\n",
              "        vertical-align: middle;\n",
              "    }\n",
              "\n",
              "    .dataframe tbody tr th {\n",
              "        vertical-align: top;\n",
              "    }\n",
              "\n",
              "    .dataframe thead th {\n",
              "        text-align: right;\n",
              "    }\n",
              "</style>\n",
              "<table border=\"1\" class=\"dataframe\">\n",
              "  <thead>\n",
              "    <tr style=\"text-align: right;\">\n",
              "      <th></th>\n",
              "      <th>key</th>\n",
              "      <th>pickup_datetime</th>\n",
              "      <th>pickup_longitude</th>\n",
              "      <th>pickup_latitude</th>\n",
              "      <th>dropoff_longitude</th>\n",
              "      <th>dropoff_latitude</th>\n",
              "      <th>passenger_count</th>\n",
              "      <th>pickup_hour</th>\n",
              "      <th>pickup_day_of_week</th>\n",
              "      <th>pickup_day</th>\n",
              "      <th>pickup_month</th>\n",
              "      <th>pickup_year</th>\n",
              "      <th>pickup_day_of_week_name</th>\n",
              "      <th>abs_diff_longitude</th>\n",
              "      <th>abs_diff_latitude</th>\n",
              "    </tr>\n",
              "  </thead>\n",
              "  <tbody>\n",
              "    <tr>\n",
              "      <th>823733</th>\n",
              "      <td>2011-02-26 20:26:00.000000110</td>\n",
              "      <td>2011-02-26 20:26:00</td>\n",
              "      <td>-73.862735</td>\n",
              "      <td>40.76883</td>\n",
              "      <td>-73.969447</td>\n",
              "      <td>40.797897</td>\n",
              "      <td>1</td>\n",
              "      <td>20</td>\n",
              "      <td>5</td>\n",
              "      <td>26</td>\n",
              "      <td>2</td>\n",
              "      <td>2011</td>\n",
              "      <td>Sábado</td>\n",
              "      <td>0.106712</td>\n",
              "      <td>0.029067</td>\n",
              "    </tr>\n",
              "  </tbody>\n",
              "</table>\n",
              "</div>\n",
              "      <button class=\"colab-df-convert\" onclick=\"convertToInteractive('df-9f716bb8-33ae-418c-a0d8-c20cd209f5e2')\"\n",
              "              title=\"Convert this dataframe to an interactive table.\"\n",
              "              style=\"display:none;\">\n",
              "        \n",
              "  <svg xmlns=\"http://www.w3.org/2000/svg\" height=\"24px\"viewBox=\"0 0 24 24\"\n",
              "       width=\"24px\">\n",
              "    <path d=\"M0 0h24v24H0V0z\" fill=\"none\"/>\n",
              "    <path d=\"M18.56 5.44l.94 2.06.94-2.06 2.06-.94-2.06-.94-.94-2.06-.94 2.06-2.06.94zm-11 1L8.5 8.5l.94-2.06 2.06-.94-2.06-.94L8.5 2.5l-.94 2.06-2.06.94zm10 10l.94 2.06.94-2.06 2.06-.94-2.06-.94-.94-2.06-.94 2.06-2.06.94z\"/><path d=\"M17.41 7.96l-1.37-1.37c-.4-.4-.92-.59-1.43-.59-.52 0-1.04.2-1.43.59L10.3 9.45l-7.72 7.72c-.78.78-.78 2.05 0 2.83L4 21.41c.39.39.9.59 1.41.59.51 0 1.02-.2 1.41-.59l7.78-7.78 2.81-2.81c.8-.78.8-2.07 0-2.86zM5.41 20L4 18.59l7.72-7.72 1.47 1.35L5.41 20z\"/>\n",
              "  </svg>\n",
              "      </button>\n",
              "      \n",
              "  <style>\n",
              "    .colab-df-container {\n",
              "      display:flex;\n",
              "      flex-wrap:wrap;\n",
              "      gap: 12px;\n",
              "    }\n",
              "\n",
              "    .colab-df-convert {\n",
              "      background-color: #E8F0FE;\n",
              "      border: none;\n",
              "      border-radius: 50%;\n",
              "      cursor: pointer;\n",
              "      display: none;\n",
              "      fill: #1967D2;\n",
              "      height: 32px;\n",
              "      padding: 0 0 0 0;\n",
              "      width: 32px;\n",
              "    }\n",
              "\n",
              "    .colab-df-convert:hover {\n",
              "      background-color: #E2EBFA;\n",
              "      box-shadow: 0px 1px 2px rgba(60, 64, 67, 0.3), 0px 1px 3px 1px rgba(60, 64, 67, 0.15);\n",
              "      fill: #174EA6;\n",
              "    }\n",
              "\n",
              "    [theme=dark] .colab-df-convert {\n",
              "      background-color: #3B4455;\n",
              "      fill: #D2E3FC;\n",
              "    }\n",
              "\n",
              "    [theme=dark] .colab-df-convert:hover {\n",
              "      background-color: #434B5C;\n",
              "      box-shadow: 0px 1px 3px 1px rgba(0, 0, 0, 0.15);\n",
              "      filter: drop-shadow(0px 1px 2px rgba(0, 0, 0, 0.3));\n",
              "      fill: #FFFFFF;\n",
              "    }\n",
              "  </style>\n",
              "\n",
              "      <script>\n",
              "        const buttonEl =\n",
              "          document.querySelector('#df-9f716bb8-33ae-418c-a0d8-c20cd209f5e2 button.colab-df-convert');\n",
              "        buttonEl.style.display =\n",
              "          google.colab.kernel.accessAllowed ? 'block' : 'none';\n",
              "\n",
              "        async function convertToInteractive(key) {\n",
              "          const element = document.querySelector('#df-9f716bb8-33ae-418c-a0d8-c20cd209f5e2');\n",
              "          const dataTable =\n",
              "            await google.colab.kernel.invokeFunction('convertToInteractive',\n",
              "                                                     [key], {});\n",
              "          if (!dataTable) return;\n",
              "\n",
              "          const docLinkHtml = 'Like what you see? Visit the ' +\n",
              "            '<a target=\"_blank\" href=https://colab.research.google.com/notebooks/data_table.ipynb>data table notebook</a>'\n",
              "            + ' to learn more about interactive tables.';\n",
              "          element.innerHTML = '';\n",
              "          dataTable['output_type'] = 'display_data';\n",
              "          await google.colab.output.renderOutput(dataTable, element);\n",
              "          const docLink = document.createElement('div');\n",
              "          docLink.innerHTML = docLinkHtml;\n",
              "          element.appendChild(docLink);\n",
              "        }\n",
              "      </script>\n",
              "    </div>\n",
              "  </div>\n",
              "  "
            ]
          },
          "metadata": {},
          "execution_count": 59
        }
      ]
    },
    {
      "cell_type": "code",
      "source": [
        "print(Y_test.shape)\n",
        "Y_test.head(1)"
      ],
      "metadata": {
        "colab": {
          "base_uri": "https://localhost:8080/"
        },
        "id": "-JtEmgVXBUjf",
        "outputId": "c68b6614-b7ac-44dc-a244-0b4a84e3c17f"
      },
      "execution_count": null,
      "outputs": [
        {
          "output_type": "stream",
          "name": "stdout",
          "text": [
            "(263525,)\n"
          ]
        },
        {
          "output_type": "execute_result",
          "data": {
            "text/plain": [
              "823733    28.1\n",
              "Name: fare_amount, dtype: float64"
            ]
          },
          "metadata": {},
          "execution_count": 60
        }
      ]
    },
    {
      "cell_type": "markdown",
      "source": [
        "### Treinamento do modelo"
      ],
      "metadata": {
        "id": "6E4gEGw-BXu2"
      }
    },
    {
      "cell_type": "markdown",
      "source": [
        "modelo **fit** -> aprender com dados que de treino (Iremos ensinar o modelo)"
      ],
      "metadata": {
        "id": "-dxyQqjOuJTh"
      }
    },
    {
      "cell_type": "code",
      "source": [
        "\n",
        "# instancia a regressão linear\n",
        "lm = LinearRegression()\n",
        "# como vamos utilizar somente uma feature, vamos passar somente ela para treinar o modelo\n",
        "# 'abs_diff_longitude'=>> variável para realizar a predição\n",
        "lm.fit(X_train[['abs_diff_longitude']], Y_train)"
      ],
      "metadata": {
        "colab": {
          "base_uri": "https://localhost:8080/"
        },
        "id": "QhUxDAw-BV_t",
        "outputId": "dc7a2fa6-ae63-4486-d539-09183e472034"
      },
      "execution_count": null,
      "outputs": [
        {
          "output_type": "execute_result",
          "data": {
            "text/plain": [
              "LinearRegression()"
            ]
          },
          "metadata": {},
          "execution_count": 61
        }
      ]
    },
    {
      "cell_type": "markdown",
      "source": [
        "### Predição"
      ],
      "metadata": {
        "id": "mdov84qLBecK"
      }
    },
    {
      "cell_type": "markdown",
      "source": [
        "modelo **predict** -> pega o modelo que acabou de treinar e gerar as predições com base no que foi apendido"
      ],
      "metadata": {
        "id": "EkDsCbRUuRlc"
      }
    },
    {
      "cell_type": "code",
      "source": [
        "# para fazer a predição também só devemos utilizar a feature fornecida no treinamento\n",
        "Y_pred = lm.predict(X_test[['abs_diff_longitude']])"
      ],
      "metadata": {
        "id": "mTk8IGQ6Bdnj"
      },
      "execution_count": null,
      "outputs": []
    },
    {
      "cell_type": "code",
      "source": [
        "_ = sns.regplot(x=Y_test, y=Y_pred).set_title(\"Distribuição do target vs valor predito pelo modelo\");"
      ],
      "metadata": {
        "colab": {
          "base_uri": "https://localhost:8080/"
        },
        "id": "Vf0yT3QsBhQ1",
        "outputId": "ec74d04e-b9bc-4f2e-e6c0-3e88e912b94e"
      },
      "execution_count": null,
      "outputs": [
        {
          "output_type": "display_data",
          "data": {
            "text/plain": [
              "<Figure size 432x288 with 1 Axes>"
            ],
            "image/png": "[encoded data removed]"
          },
          "metadata": {
            "needs_background": "light"
          }
        }
      ]
    },
    {
      "cell_type": "markdown",
      "source": [
        "De acordo com gráfico\n",
        "- Notamos que alguns valores reais de 100 dólares e modelo fez predição em torno de 60 dólares.\n",
        "Existe algumas diferenças passadas pelo modelo com relação ao valor real."
      ],
      "metadata": {
        "id": "6QHhRqa2vRyC"
      }
    },
    {
      "cell_type": "code",
      "source": [
        "# vamos pegar de exemplo o caso em que a diferença das longitudes é de 0.1067120000000017\n",
        "example = X_test[['abs_diff_longitude']].iloc[0][0]\n",
        "example"
      ],
      "metadata": {
        "colab": {
          "base_uri": "https://localhost:8080/"
        },
        "id": "Oln5MFrsBixU",
        "outputId": "14571127-dbdc-4a26-ee41-417f7bc2615b"
      },
      "execution_count": null,
      "outputs": [
        {
          "output_type": "execute_result",
          "data": {
            "text/plain": [
              "0.1067120000000017"
            ]
          },
          "metadata": {},
          "execution_count": 64
        }
      ]
    },
    {
      "cell_type": "code",
      "source": [
        "# aqui conseguimos pegar os coeficientes que compõem a equação da regressão linear\n",
        "beta=lm.coef_\n",
        "intercept=lm.intercept_\n",
        "print(beta)\n",
        "print(intercept)"
      ],
      "metadata": {
        "colab": {
          "base_uri": "https://localhost:8080/"
        },
        "id": "puMztwGaBwS6",
        "outputId": "1c76bb5e-559e-438d-dba2-4617332ce2d8"
      },
      "execution_count": null,
      "outputs": [
        {
          "output_type": "stream",
          "name": "stdout",
          "text": [
            "[225.37880345]\n",
            "6.081784576615072\n"
          ]
        }
      ]
    },
    {
      "cell_type": "code",
      "source": [
        "# Y = (225.37880345 * example) + 6.081784576615056\n",
        "(beta[0] * example) + intercept"
      ],
      "metadata": {
        "colab": {
          "base_uri": "https://localhost:8080/"
        },
        "id": "XEVcnwJZBxyt",
        "outputId": "ea8bea30-6ecc-4cb3-d2e9-6f6fb06ac0ec"
      },
      "execution_count": null,
      "outputs": [
        {
          "output_type": "execute_result",
          "data": {
            "text/plain": [
              "30.13240745082181"
            ]
          },
          "metadata": {},
          "execution_count": 66
        }
      ]
    },
    {
      "cell_type": "markdown",
      "source": [
        "Substituindo os valores na fórmula, temos que esse passageiro teria pago cerca de 30 dólares na corrida. E esse valor da fórmula foi exatamente a mesma coisa que nosso modelo predisse:\n"
      ],
      "metadata": {
        "id": "zbXkMnfiB0fk"
      }
    },
    {
      "cell_type": "code",
      "source": [
        "Y_pred[0]"
      ],
      "metadata": {
        "colab": {
          "base_uri": "https://localhost:8080/"
        },
        "id": "lD9O4M5xBzEQ",
        "outputId": "c7173f03-4cc9-4377-a743-2df24343f244"
      },
      "execution_count": null,
      "outputs": [
        {
          "output_type": "execute_result",
          "data": {
            "text/plain": [
              "30.13240745082181"
            ]
          },
          "metadata": {},
          "execution_count": 67
        }
      ]
    },
    {
      "cell_type": "markdown",
      "source": [
        "Há mais duas informações interessantes que podemos observar com os coeficientes:\n",
        "\n",
        "- Cada vez que a diferença da longitude aumenta em 1, o preço da corrida aumenta em 225 dólares (calma que a diferença das longitudes não é tão alta assim!).\n",
        "- Além disso, podemos notar que se a origem e o destino do passageiro fossem o mesmo, ele pagaria 6 dólares.<br>\n",
        "\n",
        "Conforme tinhamos visto mais acima no notebook, a média da diferença da longitude é de 0.022119. Podemos usar esse número na fórmula que vimos no início da aula para calcular os valores que seriam preditos para a média das viagens:"
      ],
      "metadata": {
        "id": "iK1QiFCpB41m"
      }
    },
    {
      "cell_type": "code",
      "source": [
        "(beta * 0.022119) + intercept"
      ],
      "metadata": {
        "colab": {
          "base_uri": "https://localhost:8080/"
        },
        "id": "JAuAx-ghB3gx",
        "outputId": "1140eeec-af8b-403e-d323-87c15412284d"
      },
      "execution_count": null,
      "outputs": [
        {
          "output_type": "execute_result",
          "data": {
            "text/plain": [
              "array([11.06693833])"
            ]
          },
          "metadata": {},
          "execution_count": 68
        }
      ]
    },
    {
      "cell_type": "markdown",
      "source": [
        "Para a média das viagens então, o nosso modelo iria predizer que o valor da corrida seria de quase 11 dólares."
      ],
      "metadata": {
        "id": "3Yj3xR_MCBHP"
      }
    },
    {
      "cell_type": "markdown",
      "source": [
        "<h3>Métricas de avaliação<h3>\n"
      ],
      "metadata": {
        "id": "0TeV4Jd5CElM"
      }
    },
    {
      "cell_type": "code",
      "source": [
        "from sklearn.metrics import mean_squared_error, mean_absolute_error, r2_score"
      ],
      "metadata": {
        "id": "zjiEQa4HCAIq"
      },
      "execution_count": null,
      "outputs": []
    },
    {
      "cell_type": "markdown",
      "source": [
        "### MSE\n",
        "\n",
        "O MSE calcula o erro quadrático médio das predições do nosso modelo. Quanto maior o MSE, pior é o modelo.\n",
        "\n",
        "Essa métrica é útil quando temos valores de target mais incomuns e que seriam interessantes que nosso modelo não errasse.\n",
        "\n",
        "Por outro lado, como os erros são penalizados exponencialmente, erros maiores tem um peso maior do que os erros menores. Então, se o nosso modelo faz apenas uma predição muito, muito ruim, o MSE irá elevar esse erro ao quadrado e, com isso, esse erro ficará ainda pior e acabaremos achando que o nosso modelo está performando pior do que realmente está.\n",
        "\n",
        "Outro ponto é que a escala do MSE não é a mesma do nosso target (visto que os erros são elevados ao quadrado), então sua interpretação fica mais difícil."
      ],
      "metadata": {
        "id": "4ErPbMmGCQLE"
      }
    },
    {
      "cell_type": "code",
      "source": [
        "mse = mean_squared_error(Y_test, Y_pred)\n",
        "mse"
      ],
      "metadata": {
        "colab": {
          "base_uri": "https://localhost:8080/"
        },
        "id": "8zJAMA5-COz0",
        "outputId": "5f70238e-2c50-41a0-be72-86516695b2b6"
      },
      "execution_count": null,
      "outputs": [
        {
          "output_type": "execute_result",
          "data": {
            "text/plain": [
              "24.697109703696587"
            ]
          },
          "metadata": {},
          "execution_count": 70
        }
      ]
    },
    {
      "cell_type": "markdown",
      "source": [
        "### MAE\n",
        "\n",
        "O MAE calcula a média da diferença absoluta entre o valor predito e o valor real. Nesse caso, os erros são penalizados linearmente, ou seja, todos terão o mesmo peso na média.\n",
        "\n",
        "Sua vantagem perante o MSE é que, como a escala é a mesma do target, é mais fácil interpretá-lo. Além disso, essa métrica não penaliza tanto erros maiores como o MSE e, com isso, o MAE não é tão sensível a outliers como o MSE."
      ],
      "metadata": {
        "id": "z_W7r4bgCYYR"
      }
    },
    {
      "cell_type": "code",
      "source": [
        "mae = mean_absolute_error(Y_test, Y_pred)\n",
        "mae"
      ],
      "metadata": {
        "colab": {
          "base_uri": "https://localhost:8080/"
        },
        "id": "T6sFO4ZeCXsp",
        "outputId": "b2de0b47-ce52-481c-d262-e5883fb3dab7"
      },
      "execution_count": null,
      "outputs": [
        {
          "output_type": "execute_result",
          "data": {
            "text/plain": [
              "3.1877263310509876"
            ]
          },
          "metadata": {},
          "execution_count": 71
        }
      ]
    },
    {
      "cell_type": "markdown",
      "source": [
        "### R²\n",
        "\n",
        "O R² é uma métrica que varia entre -∞ e 1 e é uma razão que indica o quão bom o nosso modelo está em comparação com um modelo naive que faz a predição com base no valor médio do target. Quanto maior seu valor, melhor é nosso modelo com relação a esse modelo mais simplista.\n",
        "\n",
        "Um valor de R² negativo significa que nosso modelo é pior do que se tivéssemos feito a predição com o valor da média. Entretanto, só com essa métrica não conseguimos enxergar a magnitude dos erros do nosso modelo."
      ],
      "metadata": {
        "id": "KtWLQeU9Ce_z"
      }
    },
    {
      "cell_type": "code",
      "source": [
        "r2_score(Y_test, Y_pred)"
      ],
      "metadata": {
        "colab": {
          "base_uri": "https://localhost:8080/"
        },
        "id": "IoE154HOCeIW",
        "outputId": "59641977-3410-406a-94a6-e903d045169c"
      },
      "execution_count": null,
      "outputs": [
        {
          "output_type": "execute_result",
          "data": {
            "text/plain": [
              "0.6810560930980911"
            ]
          },
          "metadata": {},
          "execution_count": 72
        }
      ]
    },
    {
      "cell_type": "markdown",
      "source": [
        "Como no nosso caso temos aqueles valores de corrida por volta de 100 dólares que parecem outliers, vamos considerar somente o MAE e o R2 para o cálculo dos erros do nosso modelo.\n",
        "\n",
        "Observando essas métricas de erro, podemos dizer que o modelo não está tão ruim, visto que está melhor do que um modelo que chutasse todos os valores como a média e cujo erro médio absoluto é de cerca de 3 dólares.\n",
        "\n",
        "Hum, mas será que se nós tivéssemos usado a mediana dos valores pagos na corrida teria sido melhor do que criar um modelo de regressão linear? Será que perdemos nosso tempo? :("
      ],
      "metadata": {
        "id": "SSenp9UMClwD"
      }
    },
    {
      "cell_type": "code",
      "source": [
        "median = Y_train.median()\n",
        "median"
      ],
      "metadata": {
        "colab": {
          "base_uri": "https://localhost:8080/"
        },
        "id": "NBqSNcCHCkRN",
        "outputId": "eb5b55bd-37c8-4d1f-fd26-5e566c058442"
      },
      "execution_count": null,
      "outputs": [
        {
          "output_type": "execute_result",
          "data": {
            "text/plain": [
              "8.5"
            ]
          },
          "metadata": {},
          "execution_count": 73
        }
      ]
    },
    {
      "cell_type": "code",
      "source": [
        "X_test['median_fare_amount'] = median"
      ],
      "metadata": {
        "id": "ULWFgiwOCoDg"
      },
      "execution_count": null,
      "outputs": []
    },
    {
      "cell_type": "code",
      "source": [
        "mae = mean_absolute_error(Y_test, X_test['median_fare_amount'])\n",
        "mae"
      ],
      "metadata": {
        "colab": {
          "base_uri": "https://localhost:8080/"
        },
        "id": "j7wqzn28CpDi",
        "outputId": "331d6492-8af4-4119-9ae8-da31636f9ec0"
      },
      "execution_count": null,
      "outputs": [
        {
          "output_type": "execute_result",
          "data": {
            "text/plain": [
              "5.11990744711128"
            ]
          },
          "metadata": {},
          "execution_count": 75
        }
      ]
    },
    {
      "cell_type": "code",
      "source": [
        "r2_score(Y_test, X_test['median_fare_amount'])"
      ],
      "metadata": {
        "colab": {
          "base_uri": "https://localhost:8080/"
        },
        "id": "3Folj2XCCqKC",
        "outputId": "5add84bf-c641-43af-e97f-b6249e6d17d5"
      },
      "execution_count": null,
      "outputs": [
        {
          "output_type": "execute_result",
          "data": {
            "text/plain": [
              "-0.08501430324232406"
            ]
          },
          "metadata": {},
          "execution_count": 76
        }
      ]
    },
    {
      "cell_type": "code",
      "source": [
        "lm.fit(X_train[['abs_diff_latitude']], Y_train)"
      ],
      "metadata": {
        "colab": {
          "base_uri": "https://localhost:8080/"
        },
        "id": "kuzvl80JCraA",
        "outputId": "068f9c69-edf6-473c-ad29-f05c24986e30"
      },
      "execution_count": null,
      "outputs": [
        {
          "output_type": "execute_result",
          "data": {
            "text/plain": [
              "LinearRegression()"
            ]
          },
          "metadata": {},
          "execution_count": 77
        }
      ]
    },
    {
      "cell_type": "code",
      "source": [
        "Y_pred = lm.predict(X_test[['abs_diff_latitude']])"
      ],
      "metadata": {
        "id": "MbWcqgJjCuj6"
      },
      "execution_count": null,
      "outputs": []
    },
    {
      "cell_type": "code",
      "source": [
        "beta=lm.coef_\n",
        "intercept=lm.intercept_\n",
        "print(beta)\n",
        "print(intercept)"
      ],
      "metadata": {
        "colab": {
          "base_uri": "https://localhost:8080/"
        },
        "id": "MPklo6CyCvuM",
        "outputId": "50788e79-dd87-45b1-8212-4debc2a6abdb"
      },
      "execution_count": null,
      "outputs": [
        {
          "output_type": "stream",
          "name": "stdout",
          "text": [
            "[279.82492887]\n",
            "5.25118382146758\n"
          ]
        }
      ]
    },
    {
      "cell_type": "code",
      "source": [
        "mae = mean_absolute_error(Y_test, Y_pred)\n",
        "mae"
      ],
      "metadata": {
        "colab": {
          "base_uri": "https://localhost:8080/"
        },
        "id": "6mwzrmMsCx6k",
        "outputId": "bb329168-ce96-4d28-cea0-2e5c9cea986e"
      },
      "execution_count": null,
      "outputs": [
        {
          "output_type": "execute_result",
          "data": {
            "text/plain": [
              "3.718685333704191"
            ]
          },
          "metadata": {},
          "execution_count": 80
        }
      ]
    },
    {
      "cell_type": "code",
      "source": [
        "r2_score(Y_test, Y_pred)"
      ],
      "metadata": {
        "colab": {
          "base_uri": "https://localhost:8080/"
        },
        "id": "W0iH7BEKCzKe",
        "outputId": "c445443a-5b4b-4835-dc7b-2d5aa72e9abc"
      },
      "execution_count": null,
      "outputs": [
        {
          "output_type": "execute_result",
          "data": {
            "text/plain": [
              "0.477625221051739"
            ]
          },
          "metadata": {},
          "execution_count": 81
        }
      ]
    },
    {
      "cell_type": "markdown",
      "source": [
        "Olhando o MAE e o R², esse segundo modelo não foi melhor que o primeiro, visto que o MAE aumentou e o R² diminuiu...\n",
        "\n",
        "Mas vocês acham que faz sentido a gente ficar criando um modelo só com uma feature mesmo ou o ideal seria combinar com outras que temos disponíveis?\n",
        "\n",
        "\n",
        "\n"
      ],
      "metadata": {
        "id": "qODYe7FMC1-A"
      }
    },
    {
      "cell_type": "markdown",
      "source": [
        "<h3>Regressão Linear Múltipla<h3>"
      ],
      "metadata": {
        "id": "yFXUE9NWuUI5"
      }
    },
    {
      "cell_type": "code",
      "source": [
        "columns = ['pickup_longitude','pickup_latitude', 'dropoff_longitude', 'dropoff_latitude',\n",
        "       'passenger_count', 'pickup_hour', 'pickup_day_of_week', 'pickup_day',\n",
        "       'pickup_month', 'pickup_year','abs_diff_longitude', 'abs_diff_latitude']\n"
      ],
      "metadata": {
        "id": "1Wz4Nu-JC00L"
      },
      "execution_count": null,
      "outputs": []
    },
    {
      "cell_type": "code",
      "source": [
        "lm.fit(X_train[columns], Y_train)"
      ],
      "metadata": {
        "colab": {
          "base_uri": "https://localhost:8080/"
        },
        "id": "M1G7RAA7DDel",
        "outputId": "af77adf5-e2e8-4cef-aa41-b0ccd624f920"
      },
      "execution_count": null,
      "outputs": [
        {
          "output_type": "execute_result",
          "data": {
            "text/plain": [
              "LinearRegression()"
            ]
          },
          "metadata": {},
          "execution_count": 83
        }
      ]
    },
    {
      "cell_type": "code",
      "source": [
        "Y_pred = lm.predict(X_test[columns])"
      ],
      "metadata": {
        "id": "1bPEznYvDElj"
      },
      "execution_count": null,
      "outputs": []
    },
    {
      "cell_type": "code",
      "source": [
        "beta=lm.coef_\n",
        "intercept=lm.intercept_"
      ],
      "metadata": {
        "id": "Kk15_fUxDF2P"
      },
      "execution_count": null,
      "outputs": []
    },
    {
      "cell_type": "code",
      "source": [
        "beta.tolist()"
      ],
      "metadata": {
        "colab": {
          "base_uri": "https://localhost:8080/"
        },
        "id": "ze9mWzIuDHEO",
        "outputId": "d49796df-7094-4234-a21f-e8ef8686bfb1"
      },
      "execution_count": null,
      "outputs": [
        {
          "output_type": "execute_result",
          "data": {
            "text/plain": [
              "[14.963782473276721,\n",
              " 2.737995707200696,\n",
              " 7.607031022297448,\n",
              " -18.425442438177704,\n",
              " 0.11678265334679905,\n",
              " 0.011291087632848473,\n",
              " -0.03347907210247669,\n",
              " 0.001126808852028649,\n",
              " 0.0669584128300924,\n",
              " 0.49129557017506453,\n",
              " 160.9297290108895,\n",
              " 137.05547818525534]"
            ]
          },
          "metadata": {},
          "execution_count": 86
        }
      ]
    },
    {
      "cell_type": "code",
      "source": [
        "intercept"
      ],
      "metadata": {
        "colab": {
          "base_uri": "https://localhost:8080/"
        },
        "id": "iYgFrEFjDII6",
        "outputId": "73e10751-abfd-41fa-ff57-d4224032b366"
      },
      "execution_count": null,
      "outputs": [
        {
          "output_type": "execute_result",
          "data": {
            "text/plain": [
              "1324.6273746789398"
            ]
          },
          "metadata": {},
          "execution_count": 87
        }
      ]
    },
    {
      "cell_type": "code",
      "source": [
        "mae = mean_absolute_error(Y_test, Y_pred)\n",
        "mae"
      ],
      "metadata": {
        "colab": {
          "base_uri": "https://localhost:8080/"
        },
        "id": "YyJBEzkCDJ3R",
        "outputId": "fa8e1072-cb11-4b9e-adac-9c32f6d66830"
      },
      "execution_count": null,
      "outputs": [
        {
          "output_type": "execute_result",
          "data": {
            "text/plain": [
              "2.349518969694522"
            ]
          },
          "metadata": {},
          "execution_count": 88
        }
      ]
    },
    {
      "cell_type": "code",
      "source": [
        "r2_score(Y_test, Y_pred)"
      ],
      "metadata": {
        "colab": {
          "base_uri": "https://localhost:8080/"
        },
        "id": "qvcy53EeDLFw",
        "outputId": "03a530ee-bea7-4644-c94c-24a234074852"
      },
      "execution_count": null,
      "outputs": [
        {
          "output_type": "execute_result",
          "data": {
            "text/plain": [
              "0.7791099540760904"
            ]
          },
          "metadata": {},
          "execution_count": 89
        }
      ]
    },
    {
      "cell_type": "markdown",
      "source": [
        "Parece que temos um modelo melhor! Diminuímos o MAE e aumentamos o R²!"
      ],
      "metadata": {
        "id": "jv9qQlwuDOXJ"
      }
    },
    {
      "cell_type": "markdown",
      "source": [
        "Como temos vários coeficientes agora, podemos tentar visualizá-los de uma forma um pouco melhor para entender seus pesos:"
      ],
      "metadata": {
        "id": "7rnvJ8_6DQs6"
      }
    },
    {
      "cell_type": "code",
      "source": [
        "weights = pd.DataFrame(list(zip(columns, lm.coef_.tolist())),columns=['names', 'coefs'])\n",
        "weights"
      ],
      "metadata": {
        "colab": {
          "base_uri": "https://localhost:8080/",
          "height": 426
        },
        "id": "J383NkKGDMiX",
        "outputId": "da5de3e2-77cb-495a-848e-2d9c7e8613c4"
      },
      "execution_count": null,
      "outputs": [
        {
          "output_type": "execute_result",
          "data": {
            "text/plain": [
              "                 names       coefs\n",
              "0     pickup_longitude   14.963782\n",
              "1      pickup_latitude    2.737996\n",
              "2    dropoff_longitude    7.607031\n",
              "3     dropoff_latitude  -18.425442\n",
              "4      passenger_count    0.116783\n",
              "5          pickup_hour    0.011291\n",
              "6   pickup_day_of_week   -0.033479\n",
              "7           pickup_day    0.001127\n",
              "8         pickup_month    0.066958\n",
              "9          pickup_year    0.491296\n",
              "10  abs_diff_longitude  160.929729\n",
              "11   abs_diff_latitude  137.055478"
            ],
            "text/html": [
              "\n",
              "  <div id=\"df-317fe444-79d9-40ba-897d-79a87d5c8518\">\n",
              "    <div class=\"colab-df-container\">\n",
              "      <div>\n",
              "<style scoped>\n",
              "    .dataframe tbody tr th:only-of-type {\n",
              "        vertical-align: middle;\n",
              "    }\n",
              "\n",
              "    .dataframe tbody tr th {\n",
              "        vertical-align: top;\n",
              "    }\n",
              "\n",
              "    .dataframe thead th {\n",
              "        text-align: right;\n",
              "    }\n",
              "</style>\n",
              "<table border=\"1\" class=\"dataframe\">\n",
              "  <thead>\n",
              "    <tr style=\"text-align: right;\">\n",
              "      <th></th>\n",
              "      <th>names</th>\n",
              "      <th>coefs</th>\n",
              "    </tr>\n",
              "  </thead>\n",
              "  <tbody>\n",
              "    <tr>\n",
              "      <th>0</th>\n",
              "      <td>pickup_longitude</td>\n",
              "      <td>14.963782</td>\n",
              "    </tr>\n",
              "    <tr>\n",
              "      <th>1</th>\n",
              "      <td>pickup_latitude</td>\n",
              "      <td>2.737996</td>\n",
              "    </tr>\n",
              "    <tr>\n",
              "      <th>2</th>\n",
              "      <td>dropoff_longitude</td>\n",
              "      <td>7.607031</td>\n",
              "    </tr>\n",
              "    <tr>\n",
              "      <th>3</th>\n",
              "      <td>dropoff_latitude</td>\n",
              "      <td>-18.425442</td>\n",
              "    </tr>\n",
              "    <tr>\n",
              "      <th>4</th>\n",
              "      <td>passenger_count</td>\n",
              "      <td>0.116783</td>\n",
              "    </tr>\n",
              "    <tr>\n",
              "      <th>5</th>\n",
              "      <td>pickup_hour</td>\n",
              "      <td>0.011291</td>\n",
              "    </tr>\n",
              "    <tr>\n",
              "      <th>6</th>\n",
              "      <td>pickup_day_of_week</td>\n",
              "      <td>-0.033479</td>\n",
              "    </tr>\n",
              "    <tr>\n",
              "      <th>7</th>\n",
              "      <td>pickup_day</td>\n",
              "      <td>0.001127</td>\n",
              "    </tr>\n",
              "    <tr>\n",
              "      <th>8</th>\n",
              "      <td>pickup_month</td>\n",
              "      <td>0.066958</td>\n",
              "    </tr>\n",
              "    <tr>\n",
              "      <th>9</th>\n",
              "      <td>pickup_year</td>\n",
              "      <td>0.491296</td>\n",
              "    </tr>\n",
              "    <tr>\n",
              "      <th>10</th>\n",
              "      <td>abs_diff_longitude</td>\n",
              "      <td>160.929729</td>\n",
              "    </tr>\n",
              "    <tr>\n",
              "      <th>11</th>\n",
              "      <td>abs_diff_latitude</td>\n",
              "      <td>137.055478</td>\n",
              "    </tr>\n",
              "  </tbody>\n",
              "</table>\n",
              "</div>\n",
              "      <button class=\"colab-df-convert\" onclick=\"convertToInteractive('df-317fe444-79d9-40ba-897d-79a87d5c8518')\"\n",
              "              title=\"Convert this dataframe to an interactive table.\"\n",
              "              style=\"display:none;\">\n",
              "        \n",
              "  <svg xmlns=\"http://www.w3.org/2000/svg\" height=\"24px\"viewBox=\"0 0 24 24\"\n",
              "       width=\"24px\">\n",
              "    <path d=\"M0 0h24v24H0V0z\" fill=\"none\"/>\n",
              "    <path d=\"M18.56 5.44l.94 2.06.94-2.06 2.06-.94-2.06-.94-.94-2.06-.94 2.06-2.06.94zm-11 1L8.5 8.5l.94-2.06 2.06-.94-2.06-.94L8.5 2.5l-.94 2.06-2.06.94zm10 10l.94 2.06.94-2.06 2.06-.94-2.06-.94-.94-2.06-.94 2.06-2.06.94z\"/><path d=\"M17.41 7.96l-1.37-1.37c-.4-.4-.92-.59-1.43-.59-.52 0-1.04.2-1.43.59L10.3 9.45l-7.72 7.72c-.78.78-.78 2.05 0 2.83L4 21.41c.39.39.9.59 1.41.59.51 0 1.02-.2 1.41-.59l7.78-7.78 2.81-2.81c.8-.78.8-2.07 0-2.86zM5.41 20L4 18.59l7.72-7.72 1.47 1.35L5.41 20z\"/>\n",
              "  </svg>\n",
              "      </button>\n",
              "      \n",
              "  <style>\n",
              "    .colab-df-container {\n",
              "      display:flex;\n",
              "      flex-wrap:wrap;\n",
              "      gap: 12px;\n",
              "    }\n",
              "\n",
              "    .colab-df-convert {\n",
              "      background-color: #E8F0FE;\n",
              "      border: none;\n",
              "      border-radius: 50%;\n",
              "      cursor: pointer;\n",
              "      display: none;\n",
              "      fill: #1967D2;\n",
              "      height: 32px;\n",
              "      padding: 0 0 0 0;\n",
              "      width: 32px;\n",
              "    }\n",
              "\n",
              "    .colab-df-convert:hover {\n",
              "      background-color: #E2EBFA;\n",
              "      box-shadow: 0px 1px 2px rgba(60, 64, 67, 0.3), 0px 1px 3px 1px rgba(60, 64, 67, 0.15);\n",
              "      fill: #174EA6;\n",
              "    }\n",
              "\n",
              "    [theme=dark] .colab-df-convert {\n",
              "      background-color: #3B4455;\n",
              "      fill: #D2E3FC;\n",
              "    }\n",
              "\n",
              "    [theme=dark] .colab-df-convert:hover {\n",
              "      background-color: #434B5C;\n",
              "      box-shadow: 0px 1px 3px 1px rgba(0, 0, 0, 0.15);\n",
              "      filter: drop-shadow(0px 1px 2px rgba(0, 0, 0, 0.3));\n",
              "      fill: #FFFFFF;\n",
              "    }\n",
              "  </style>\n",
              "\n",
              "      <script>\n",
              "        const buttonEl =\n",
              "          document.querySelector('#df-317fe444-79d9-40ba-897d-79a87d5c8518 button.colab-df-convert');\n",
              "        buttonEl.style.display =\n",
              "          google.colab.kernel.accessAllowed ? 'block' : 'none';\n",
              "\n",
              "        async function convertToInteractive(key) {\n",
              "          const element = document.querySelector('#df-317fe444-79d9-40ba-897d-79a87d5c8518');\n",
              "          const dataTable =\n",
              "            await google.colab.kernel.invokeFunction('convertToInteractive',\n",
              "                                                     [key], {});\n",
              "          if (!dataTable) return;\n",
              "\n",
              "          const docLinkHtml = 'Like what you see? Visit the ' +\n",
              "            '<a target=\"_blank\" href=https://colab.research.google.com/notebooks/data_table.ipynb>data table notebook</a>'\n",
              "            + ' to learn more about interactive tables.';\n",
              "          element.innerHTML = '';\n",
              "          dataTable['output_type'] = 'display_data';\n",
              "          await google.colab.output.renderOutput(dataTable, element);\n",
              "          const docLink = document.createElement('div');\n",
              "          docLink.innerHTML = docLinkHtml;\n",
              "          element.appendChild(docLink);\n",
              "        }\n",
              "      </script>\n",
              "    </div>\n",
              "  </div>\n",
              "  "
            ]
          },
          "metadata": {},
          "execution_count": 90
        }
      ]
    },
    {
      "cell_type": "code",
      "source": [
        "sns.barplot(weights.names, weights.coefs).set_title(\"Coeficiente das variáveis presentes no modelo\");\n",
        "plt.xticks(rotation=90);"
      ],
      "metadata": {
        "colab": {
          "base_uri": "https://localhost:8080/",
          "height": 387
        },
        "id": "TC5mWb-UDS0C",
        "outputId": "3ef9ef21-0cc9-4892-f856-6942d86cc329"
      },
      "execution_count": null,
      "outputs": [
        {
          "output_type": "display_data",
          "data": {
            "text/plain": [
              "<Figure size 432x288 with 1 Axes>"
            ],
            "image/png": "[encoded data removed]"
          },
          "metadata": {
            "needs_background": "light"
          }
        }
      ]
    },
    {
      "cell_type": "markdown",
      "source": [
        "Aqui podemos ver que os coeficientes maiores são os relacionados às features com a diferença absoluta entre as latitudes e longitudes.\n",
        "\n",
        "Mas será que faz sentido deixar essas features correlacionadas e que já estão presentes em outras features que criamos, como a pickup_longitude?\n",
        "\n",
        "Podemos treinar mais um modelo de regressão linear múltipla, mas dessa vez removendo as features correlacionadas:"
      ],
      "metadata": {
        "id": "bedp-vfEDWWi"
      }
    },
    {
      "cell_type": "code",
      "source": [
        "lm.fit(X_train[['passenger_count', 'pickup_hour', 'pickup_day_of_week', 'pickup_day',\n",
        "       'pickup_month', 'pickup_year','abs_diff_longitude', 'abs_diff_latitude']], Y_train)"
      ],
      "metadata": {
        "colab": {
          "base_uri": "https://localhost:8080/"
        },
        "id": "fttQZBrsDU1f",
        "outputId": "d811be49-ab36-4c07-aff5-ad2bf92242a0"
      },
      "execution_count": null,
      "outputs": [
        {
          "output_type": "execute_result",
          "data": {
            "text/plain": [
              "LinearRegression()"
            ]
          },
          "metadata": {},
          "execution_count": 92
        }
      ]
    },
    {
      "cell_type": "code",
      "source": [
        "Y_pred = lm.predict(X_test[['passenger_count', 'pickup_hour', 'pickup_day_of_week', 'pickup_day',\n",
        "       'pickup_month', 'pickup_year','abs_diff_longitude', 'abs_diff_latitude']])"
      ],
      "metadata": {
        "id": "rPZiMEdEDYWS"
      },
      "execution_count": null,
      "outputs": []
    },
    {
      "cell_type": "code",
      "source": [
        "mae = mean_absolute_error(Y_test, Y_pred)\n",
        "mae"
      ],
      "metadata": {
        "colab": {
          "base_uri": "https://localhost:8080/"
        },
        "id": "_hzoYP_1DZ-1",
        "outputId": "abe4ce91-516d-488d-d717-b5935a366799"
      },
      "execution_count": null,
      "outputs": [
        {
          "output_type": "execute_result",
          "data": {
            "text/plain": [
              "2.3660051393119104"
            ]
          },
          "metadata": {},
          "execution_count": 94
        }
      ]
    },
    {
      "cell_type": "code",
      "source": [
        "r2_score(Y_test, Y_pred)"
      ],
      "metadata": {
        "colab": {
          "base_uri": "https://localhost:8080/"
        },
        "id": "yC_pyVAJDoRC",
        "outputId": "8686b46d-a976-4c00-b0de-b0941e8c8894"
      },
      "execution_count": null,
      "outputs": [
        {
          "output_type": "execute_result",
          "data": {
            "text/plain": [
              "0.7738888492753323"
            ]
          },
          "metadata": {},
          "execution_count": 95
        }
      ]
    }
  ]
}